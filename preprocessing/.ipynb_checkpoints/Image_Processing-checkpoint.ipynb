{
 "cells": [
  {
   "cell_type": "code",
   "execution_count": 3,
   "id": "e354f4a8",
   "metadata": {},
   "outputs": [],
   "source": [
    "import cv2 as cv\n",
    "from glob import glob\n",
    "import os"
   ]
  },
  {
   "cell_type": "code",
   "execution_count": 30,
   "id": "49299598",
   "metadata": {},
   "outputs": [],
   "source": [
    "ex_dataset = glob(os.path.join('./validation_data/ExDark/be_enhanced/*.*'))"
   ]
  },
  {
   "cell_type": "code",
   "execution_count": 31,
   "id": "0b31b2f9",
   "metadata": {
    "scrolled": true
   },
   "outputs": [
    {
     "data": {
      "text/plain": [
       "'./validation_data/ExDark/be_enhanced\\\\2015_01353.jpg'"
      ]
     },
     "execution_count": 31,
     "metadata": {},
     "output_type": "execute_result"
    }
   ],
   "source": [
    "ex_dataset[10]"
   ]
  },
  {
   "cell_type": "code",
   "execution_count": 32,
   "id": "767d82a8",
   "metadata": {},
   "outputs": [
    {
     "data": {
      "text/plain": [
       "'2015_00036.jpg'"
      ]
     },
     "execution_count": 32,
     "metadata": {},
     "output_type": "execute_result"
    }
   ],
   "source": [
    "ex_dataset[0].split(\"\\\\\")[1]"
   ]
  },
  {
   "cell_type": "code",
   "execution_count": 33,
   "id": "0fbd0adc",
   "metadata": {},
   "outputs": [],
   "source": [
    "exdark_images_name = []\n",
    "for i in range(len(ex_dataset)):\n",
    "    exdark_images_name.append(ex_dataset[i].split(\"\\\\\")[1])"
   ]
  },
  {
   "cell_type": "code",
   "execution_count": 34,
   "id": "a7fdae05",
   "metadata": {},
   "outputs": [
    {
     "data": {
      "text/plain": [
       "'2015_01353.jpg'"
      ]
     },
     "execution_count": 34,
     "metadata": {},
     "output_type": "execute_result"
    }
   ],
   "source": [
    "exdark_images_name[10]"
   ]
  },
  {
   "cell_type": "code",
   "execution_count": 35,
   "id": "aec752da",
   "metadata": {},
   "outputs": [],
   "source": [
    "assert len(ex_dataset) == len(exdark_images_name)"
   ]
  },
  {
   "cell_type": "code",
   "execution_count": 36,
   "id": "06d740d5",
   "metadata": {},
   "outputs": [],
   "source": [
    "for i in range(len(ex_dataset)):\n",
    "    img = cv.imread(ex_dataset[i])\n",
    "    img = cv.resize(img, (600,400))\n",
    "    cv.imwrite('./validation_data/ExDark/be_enhanced2/'+exdark_images_name[i], img)"
   ]
  },
  {
   "cell_type": "code",
   "execution_count": 37,
   "id": "bfd7fa9b",
   "metadata": {},
   "outputs": [
    {
     "data": {
      "text/plain": [
       "(400, 600, 3)"
      ]
     },
     "execution_count": 37,
     "metadata": {},
     "output_type": "execute_result"
    }
   ],
   "source": [
    "img.shape"
   ]
  },
  {
   "cell_type": "code",
   "execution_count": 40,
   "id": "14ffc230",
   "metadata": {},
   "outputs": [
    {
     "data": {
      "text/plain": [
       "18446744073709551616"
      ]
     },
     "execution_count": 40,
     "metadata": {},
     "output_type": "execute_result"
    }
   ],
   "source": [
    "2**64"
   ]
  },
  {
   "cell_type": "code",
   "execution_count": 1,
   "id": "86e45899",
   "metadata": {},
   "outputs": [],
   "source": [
    "import cv2 as cv"
   ]
  },
  {
   "cell_type": "code",
   "execution_count": 2,
   "id": "b59ac6a4",
   "metadata": {},
   "outputs": [],
   "source": [
    "im1 = cv.imread('./images/model_output/LOL/LiCENt/132.png')\n",
    "im2 = cv.imread('./images/model_output/LOL/de_enhanced/132.png')"
   ]
  },
  {
   "cell_type": "code",
   "execution_count": 3,
   "id": "4c55a605",
   "metadata": {},
   "outputs": [],
   "source": [
    "im3 = cv.cvtColor(im1, cv.COLOR_BGR2HLS)\n",
    "im4 = cv.cvtColor(im2, cv.COLOR_BGR2HLS)"
   ]
  },
  {
   "cell_type": "code",
   "execution_count": null,
   "id": "b33d19d5",
   "metadata": {},
   "outputs": [],
   "source": []
  }
 ],
 "metadata": {
  "kernelspec": {
   "display_name": "Python 3",
   "language": "python",
   "name": "python3"
  },
  "language_info": {
   "codemirror_mode": {
    "name": "ipython",
    "version": 3
   },
   "file_extension": ".py",
   "mimetype": "text/x-python",
   "name": "python",
   "nbconvert_exporter": "python",
   "pygments_lexer": "ipython3",
   "version": "3.8.10"
  }
 },
 "nbformat": 4,
 "nbformat_minor": 5
}
