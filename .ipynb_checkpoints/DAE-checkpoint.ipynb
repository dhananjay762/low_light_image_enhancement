{
 "cells": [
  {
   "cell_type": "code",
   "execution_count": 1,
   "id": "0f45c7ec",
   "metadata": {},
   "outputs": [
    {
     "name": "stderr",
     "output_type": "stream",
     "text": [
      "C:\\Users\\HP\\anaconda3\\lib\\site-packages\\scipy\\__init__.py:138: UserWarning: A NumPy version >=1.16.5 and <1.23.0 is required for this version of SciPy (detected version 1.23.5)\n",
      "  warnings.warn(f\"A NumPy version >={np_minversion} and <{np_maxversion} is required for this version of \"\n"
     ]
    }
   ],
   "source": [
    "import numpy as np # linear algebra\n",
    "import pandas as pd # data processing, CSV file I/O (e.g. pd.read_csv)\n",
    "import os\n",
    "from glob import glob\n",
    "from keras.preprocessing import image\n",
    "import tensorflow as tf\n",
    "from tensorflow.keras.callbacks import EarlyStopping\n",
    "import cv2 as cv\n",
    "from tensorflow.keras.models import load_model\n",
    "from utils import *\n",
    "\n",
    "from sklearn.model_selection import train_test_split"
   ]
  },
  {
   "cell_type": "code",
   "execution_count": 48,
   "id": "00399c20",
   "metadata": {},
   "outputs": [],
   "source": [
    "train_images = sorted(os.listdir('./data/train/be_enhanced'))\n",
    "train_image = []\n",
    "for im in train_images:\n",
    "    img = image.load_img('./data/train/be_enhanced/'+ im, color_mode= 'rgb')\n",
    "#     img = cv.imread('./data/train/be_enhanced/'+ im)\n",
    "#     img = cv.resize(img, (256,256))\n",
    "    img = image.img_to_array(img)\n",
    "    img = img/255.0\n",
    "    train_image.append(img)\n",
    "train_df = np.array(train_image)"
   ]
  },
  {
   "cell_type": "code",
   "execution_count": 50,
   "id": "11f481f8",
   "metadata": {},
   "outputs": [
    {
     "data": {
      "text/plain": [
       "(470, 400, 600, 3)"
      ]
     },
     "execution_count": 50,
     "metadata": {},
     "output_type": "execute_result"
    }
   ],
   "source": [
    "train_df.shape"
   ]
  },
  {
   "cell_type": "code",
   "execution_count": 2,
   "id": "0663cf24",
   "metadata": {},
   "outputs": [],
   "source": [
    "train_images = sorted(os.listdir('./data/train/be_enhanced'))\n",
    "train_image = []\n",
    "for im in train_images:\n",
    "#     img = image.load_img('./data/train/be_enhanced/'+ im, color_mode= 'rgb')\n",
    "    img = cv.imread('./data/train/be_enhanced/'+ im)\n",
    "    img = cv.resize(img, (256,256))\n",
    "    img = image.img_to_array(img)\n",
    "    img = img/255.0\n",
    "    train_image.append(img)\n",
    "train_df_new = np.array(train_image)"
   ]
  },
  {
   "cell_type": "code",
   "execution_count": 3,
   "id": "d5504646",
   "metadata": {},
   "outputs": [
    {
     "data": {
      "text/plain": [
       "(470, 256, 256, 3)"
      ]
     },
     "execution_count": 3,
     "metadata": {},
     "output_type": "execute_result"
    }
   ],
   "source": [
    "train_df_new.shape"
   ]
  },
  {
   "cell_type": "code",
   "execution_count": 4,
   "id": "19d419e2",
   "metadata": {},
   "outputs": [],
   "source": [
    "train_images_name = []\n",
    "for i in range(len(train_images)):\n",
    "    temp = []\n",
    "    temp.append(train_images[i].split('.')[0])\n",
    "    temp.append(train_images[i].split('.')[1])\n",
    "    train_images_name.append(temp)"
   ]
  },
  {
   "cell_type": "code",
   "execution_count": 5,
   "id": "de748147",
   "metadata": {},
   "outputs": [
    {
     "data": {
      "text/plain": [
       "[['10', 'png'], ['100', 'png'], ['101', 'png'], ['102', 'png'], ['103', 'png']]"
      ]
     },
     "execution_count": 5,
     "metadata": {},
     "output_type": "execute_result"
    }
   ],
   "source": [
    "train_images_name[0:5]"
   ]
  },
  {
   "cell_type": "code",
   "execution_count": 6,
   "id": "92167403",
   "metadata": {},
   "outputs": [],
   "source": [
    "real_images = sorted(os.listdir('./data/train/high'))\n",
    "real_image = []\n",
    "for im in real_images:\n",
    "#     img = image.load_img('./data/train/high/'+ im, color_mode= 'rgb')\n",
    "    img = cv.imread('./data/train/high/'+ im)\n",
    "    img = cv.resize(img, (256,256))\n",
    "    img = image.img_to_array(img)\n",
    "    img = img/255.0\n",
    "    real_image.append(img)\n",
    "real_df_new = np.array(real_image)"
   ]
  },
  {
   "cell_type": "code",
   "execution_count": 7,
   "id": "f4c198f6",
   "metadata": {},
   "outputs": [
    {
     "data": {
      "text/plain": [
       "(470, 256, 256, 3)"
      ]
     },
     "execution_count": 7,
     "metadata": {},
     "output_type": "execute_result"
    }
   ],
   "source": [
    "real_df_new.shape"
   ]
  },
  {
   "cell_type": "code",
   "execution_count": 8,
   "id": "782b9c80",
   "metadata": {},
   "outputs": [],
   "source": [
    "test_images = sorted(os.listdir('./data/test/be_enhanced'))\n",
    "test_image = []\n",
    "for im in test_images:\n",
    "    img = image.load_img('./data/test/be_enhanced/'+ im, color_mode= 'rgb')\n",
    "    img = image.img_to_array(img)\n",
    "    img = img/255.0\n",
    "    test_image.append(img)\n",
    "test_df = np.array(test_image)"
   ]
  },
  {
   "cell_type": "code",
   "execution_count": 9,
   "id": "a0d6c645",
   "metadata": {
    "scrolled": true
   },
   "outputs": [],
   "source": [
    "test_images_name = []\n",
    "for i in range(len(test_images)):\n",
    "    temp = []\n",
    "    temp.append(test_images[i].split('.')[0])\n",
    "    temp.append(test_images[i].split('.')[1])\n",
    "    test_images_name.append(temp)"
   ]
  },
  {
   "cell_type": "code",
   "execution_count": 10,
   "id": "a14d2d5d",
   "metadata": {},
   "outputs": [
    {
     "data": {
      "text/plain": [
       "(30, 400, 600, 3)"
      ]
     },
     "execution_count": 10,
     "metadata": {},
     "output_type": "execute_result"
    }
   ],
   "source": [
    "test_df.shape"
   ]
  },
  {
   "cell_type": "code",
   "execution_count": 11,
   "id": "55b9672e",
   "metadata": {},
   "outputs": [],
   "source": [
    "X_train, X_test, y_train, y_test = train_test_split(train_df_new, real_df_new, test_size=0.25, random_state=42)"
   ]
  },
  {
   "cell_type": "code",
   "execution_count": 12,
   "id": "1b481e75",
   "metadata": {},
   "outputs": [
    {
     "name": "stdout",
     "output_type": "stream",
     "text": [
      "X_train --> (352, 256, 256, 3)\n",
      "X_test --> (118, 256, 256, 3)\n",
      "y_train --> (352, 256, 256, 3)\n",
      "y_test --> (118, 256, 256, 3)\n"
     ]
    }
   ],
   "source": [
    "print('X_train --> {}'.format(X_train.shape))\n",
    "print('X_test --> {}'.format(X_test.shape))\n",
    "print('y_train --> {}'.format(y_train.shape))\n",
    "print('y_test --> {}'.format(y_test.shape))"
   ]
  },
  {
   "cell_type": "markdown",
   "id": "5698e4a1",
   "metadata": {},
   "source": [
    "### Denoising Auto-Encoder"
   ]
  },
  {
   "cell_type": "code",
   "execution_count": 13,
   "id": "98422aab",
   "metadata": {},
   "outputs": [],
   "source": [
    "from keras.models import Sequential, Model\n",
    "from keras.layers import Dense, Conv2D, MaxPooling2D,MaxPool2D ,UpSampling2D, Flatten, Input\n",
    "from keras.optimizers import SGD, Adam, Adadelta, Adagrad\n",
    "from keras import backend as K\n",
    "\n",
    "def autoencoder():\n",
    "\n",
    "    Input_img = Input(shape=(256, 256, 3))  \n",
    "    \n",
    "    #encoding architecture\n",
    "    x1 = Conv2D(256, (3, 3), activation='relu', padding='same')(Input_img)\n",
    "    x2 = Conv2D(128, (3, 3), activation='relu', padding='same')(x1)\n",
    "    x2 = MaxPool2D( (2, 2))(x2)\n",
    "    encoded = Conv2D(64, (3, 3), activation='relu', padding='same')(x2)\n",
    "\n",
    "    # decoding architecture\n",
    "    x3 = Conv2D(64, (3, 3), activation='relu', padding='same')(encoded)\n",
    "    x3 = UpSampling2D((2, 2))(x3)\n",
    "    x2 = Conv2D(128, (3, 3), activation='relu', padding='same')(x3)\n",
    "    x1 = Conv2D(256, (3, 3), activation='relu', padding='same')(x2)\n",
    "    decoded = Conv2D(3, (3, 3), padding='same')(x1)\n",
    "\n",
    "    # model\n",
    "    autoencoder = Model(Input_img, decoded)\n",
    "    autoencoder.compile(optimizer='adam', loss='mse')\n",
    "    \n",
    "    return autoencoder"
   ]
  },
  {
   "cell_type": "code",
   "execution_count": 14,
   "id": "eedc9383",
   "metadata": {
    "scrolled": true
   },
   "outputs": [
    {
     "name": "stdout",
     "output_type": "stream",
     "text": [
      "Model: \"functional_1\"\n",
      "_________________________________________________________________\n",
      "Layer (type)                 Output Shape              Param #   \n",
      "=================================================================\n",
      "input_1 (InputLayer)         [(None, 256, 256, 3)]     0         \n",
      "_________________________________________________________________\n",
      "conv2d (Conv2D)              (None, 256, 256, 256)     7168      \n",
      "_________________________________________________________________\n",
      "conv2d_1 (Conv2D)            (None, 256, 256, 128)     295040    \n",
      "_________________________________________________________________\n",
      "max_pooling2d (MaxPooling2D) (None, 128, 128, 128)     0         \n",
      "_________________________________________________________________\n",
      "conv2d_2 (Conv2D)            (None, 128, 128, 64)      73792     \n",
      "_________________________________________________________________\n",
      "conv2d_3 (Conv2D)            (None, 128, 128, 64)      36928     \n",
      "_________________________________________________________________\n",
      "up_sampling2d (UpSampling2D) (None, 256, 256, 64)      0         \n",
      "_________________________________________________________________\n",
      "conv2d_4 (Conv2D)            (None, 256, 256, 128)     73856     \n",
      "_________________________________________________________________\n",
      "conv2d_5 (Conv2D)            (None, 256, 256, 256)     295168    \n",
      "_________________________________________________________________\n",
      "conv2d_6 (Conv2D)            (None, 256, 256, 3)       6915      \n",
      "=================================================================\n",
      "Total params: 788,867\n",
      "Trainable params: 788,867\n",
      "Non-trainable params: 0\n",
      "_________________________________________________________________\n"
     ]
    }
   ],
   "source": [
    "model= autoencoder()\n",
    "model.summary()"
   ]
  },
  {
   "cell_type": "code",
   "execution_count": 15,
   "id": "81fcd88e",
   "metadata": {},
   "outputs": [],
   "source": [
    "batch_size = 10\n",
    "epoch = 50\n",
    "# checkpoint_path = './dae_checkpoint2/cp-{epoch:04d}.ckpt'"
   ]
  },
  {
   "cell_type": "code",
   "execution_count": 16,
   "id": "fdbb092d",
   "metadata": {
    "scrolled": true
   },
   "outputs": [
    {
     "name": "stdout",
     "output_type": "stream",
     "text": [
      "Epoch 1/50\n",
      "36/36 [==============================] - 875s 24s/step - loss: 0.1396 - val_loss: 0.0193\n",
      "Epoch 2/50\n",
      "36/36 [==============================] - 822s 23s/step - loss: 0.0178 - val_loss: 0.0132\n",
      "Epoch 3/50\n",
      "36/36 [==============================] - 842s 23s/step - loss: 0.0087 - val_loss: 0.0079\n",
      "Epoch 4/50\n",
      "36/36 [==============================] - 822s 23s/step - loss: 0.0066 - val_loss: 0.0060\n",
      "Epoch 5/50\n",
      "36/36 [==============================] - 844s 23s/step - loss: 0.0054 - val_loss: 0.0045\n",
      "Epoch 6/50\n",
      "36/36 [==============================] - 848s 24s/step - loss: 0.0039 - val_loss: 0.0039\n",
      "Epoch 7/50\n",
      "36/36 [==============================] - 846s 24s/step - loss: 0.0036 - val_loss: 0.0042\n",
      "Epoch 8/50\n",
      "36/36 [==============================] - 846s 24s/step - loss: 0.0035 - val_loss: 0.0034\n",
      "Epoch 9/50\n",
      "36/36 [==============================] - 820s 23s/step - loss: 0.0032 - val_loss: 0.0033\n",
      "Epoch 10/50\n",
      "36/36 [==============================] - 853s 24s/step - loss: 0.0031 - val_loss: 0.0032\n",
      "Epoch 11/50\n",
      "36/36 [==============================] - 841s 23s/step - loss: 0.0029 - val_loss: 0.0031\n",
      "Epoch 12/50\n",
      "36/36 [==============================] - 837s 23s/step - loss: 0.0029 - val_loss: 0.0033\n",
      "Epoch 13/50\n",
      "36/36 [==============================] - 851s 24s/step - loss: 0.0029 - val_loss: 0.0030\n",
      "Epoch 14/50\n",
      "36/36 [==============================] - 854s 24s/step - loss: 0.0027 - val_loss: 0.0029\n",
      "Epoch 15/50\n",
      "36/36 [==============================] - 859s 24s/step - loss: 0.0027 - val_loss: 0.0030\n",
      "Epoch 16/50\n",
      "36/36 [==============================] - 874s 24s/step - loss: 0.0026 - val_loss: 0.0028\n",
      "Epoch 17/50\n",
      "36/36 [==============================] - 867s 24s/step - loss: 0.0026 - val_loss: 0.0030\n",
      "Epoch 18/50\n",
      "36/36 [==============================] - 872s 24s/step - loss: 0.0026 - val_loss: 0.0026\n",
      "Epoch 19/50\n",
      "36/36 [==============================] - 862s 24s/step - loss: 0.0025 - val_loss: 0.0026\n",
      "Epoch 20/50\n",
      "36/36 [==============================] - 861s 24s/step - loss: 0.0024 - val_loss: 0.0029\n",
      "Epoch 21/50\n",
      "36/36 [==============================] - 896s 25s/step - loss: 0.0025 - val_loss: 0.0026\n",
      "Epoch 22/50\n",
      "36/36 [==============================] - 874s 24s/step - loss: 0.0024 - val_loss: 0.0026\n",
      "Epoch 23/50\n",
      "36/36 [==============================] - 887s 25s/step - loss: 0.0024 - val_loss: 0.0026\n",
      "Epoch 24/50\n",
      "36/36 [==============================] - 855s 24s/step - loss: 0.0022 - val_loss: 0.0023\n",
      "Epoch 25/50\n",
      "36/36 [==============================] - 870s 24s/step - loss: 0.0023 - val_loss: 0.0025\n",
      "Epoch 26/50\n",
      "36/36 [==============================] - 913s 25s/step - loss: 0.0022 - val_loss: 0.0025\n",
      "Epoch 27/50\n",
      "36/36 [==============================] - 859s 24s/step - loss: 0.0021 - val_loss: 0.0025\n",
      "Epoch 28/50\n",
      "36/36 [==============================] - 873s 24s/step - loss: 0.0021 - val_loss: 0.0022\n",
      "Epoch 29/50\n",
      "36/36 [==============================] - 855s 24s/step - loss: 0.0020 - val_loss: 0.0022\n",
      "Epoch 30/50\n",
      "36/36 [==============================] - 891s 25s/step - loss: 0.0020 - val_loss: 0.0022\n",
      "Epoch 31/50\n",
      "36/36 [==============================] - 847s 24s/step - loss: 0.0020 - val_loss: 0.0021\n",
      "Epoch 32/50\n",
      "36/36 [==============================] - 855s 24s/step - loss: 0.0020 - val_loss: 0.0023\n",
      "Epoch 33/50\n",
      "36/36 [==============================] - 889s 25s/step - loss: 0.0023 - val_loss: 0.0024\n",
      "Epoch 34/50\n",
      "36/36 [==============================] - 910s 25s/step - loss: 0.0022 - val_loss: 0.0056\n",
      "Epoch 35/50\n",
      "36/36 [==============================] - 918s 26s/step - loss: 0.0036 - val_loss: 0.0030\n",
      "Epoch 36/50\n",
      "36/36 [==============================] - 880s 24s/step - loss: 0.0021 - val_loss: 0.0022\n",
      "Epoch 37/50\n",
      "36/36 [==============================] - 849s 24s/step - loss: 0.0020 - val_loss: 0.0020\n",
      "Epoch 38/50\n",
      "36/36 [==============================] - 876s 24s/step - loss: 0.0019 - val_loss: 0.0023\n",
      "Epoch 39/50\n",
      "36/36 [==============================] - 838s 23s/step - loss: 0.0020 - val_loss: 0.0025\n",
      "Epoch 40/50\n",
      "36/36 [==============================] - 858s 24s/step - loss: 0.0020 - val_loss: 0.0025\n",
      "Epoch 41/50\n",
      "36/36 [==============================] - 917s 25s/step - loss: 0.0020 - val_loss: 0.0020\n",
      "Epoch 42/50\n",
      "36/36 [==============================] - 914s 25s/step - loss: 0.0018 - val_loss: 0.0020\n",
      "Epoch 43/50\n",
      "36/36 [==============================] - 959s 27s/step - loss: 0.0018 - val_loss: 0.0022\n",
      "Epoch 44/50\n",
      "36/36 [==============================] - 823s 23s/step - loss: 0.0025 - val_loss: 0.0023\n",
      "Epoch 45/50\n",
      "36/36 [==============================] - 857s 24s/step - loss: 0.0018 - val_loss: 0.0020\n",
      "Epoch 46/50\n",
      "36/36 [==============================] - 845s 23s/step - loss: 0.0018 - val_loss: 0.0019\n",
      "Epoch 47/50\n",
      "36/36 [==============================] - 859s 24s/step - loss: 0.0017 - val_loss: 0.0019\n",
      "Epoch 48/50\n",
      "36/36 [==============================] - 857s 24s/step - loss: 0.0018 - val_loss: 0.0019\n",
      "Epoch 49/50\n",
      "36/36 [==============================] - 926s 26s/step - loss: 0.0017 - val_loss: 0.0019\n",
      "Epoch 50/50\n",
      "36/36 [==============================] - 931s 26s/step - loss: 0.0017 - val_loss: 0.0018\n"
     ]
    }
   ],
   "source": [
    "with tf.device('/device:GPU:0'):\n",
    "    early_stopping = EarlyStopping(monitor='val_loss', min_delta=0, patience=10, verbose=1, mode='auto')\n",
    "    model.fit(x=X_train, y=X_train, epochs=epoch, batch_size=batch_size, validation_data=(X_test, X_test), callbacks=[early_stopping])"
   ]
  },
  {
   "cell_type": "code",
   "execution_count": 17,
   "id": "e82015f2",
   "metadata": {},
   "outputs": [],
   "source": [
    "## Save the model\n",
    "\n",
    "dae_checkpoint = './dae_checkpoint/dae_model.h5'\n",
    "model.save(dae_checkpoint)"
   ]
  },
  {
   "cell_type": "code",
   "execution_count": 18,
   "id": "6cf417b2",
   "metadata": {},
   "outputs": [
    {
     "data": {
      "image/png": "[encoded data removed]",
      "text/plain": [
       "<IPython.core.display.Image object>"
      ]
     },
     "execution_count": 18,
     "metadata": {},
     "output_type": "execute_result"
    }
   ],
   "source": [
    "# Visualize model\n",
    "\n",
    "from keras.utils.vis_utils import plot_model\n",
    "plot_model(model, to_file='./preprocessing/dae_model_plot.png', show_shapes=True, show_layer_names=True)"
   ]
  },
  {
   "cell_type": "code",
   "execution_count": 63,
   "id": "c9d660e5",
   "metadata": {},
   "outputs": [],
   "source": [
    "# load the model and test\n",
    "dae_checkpoint = './dae_checkpoint/dae_model.h5'\n",
    "f_model = load_model(dae_checkpoint)"
   ]
  },
  {
   "cell_type": "code",
   "execution_count": 64,
   "id": "bb00ac5f",
   "metadata": {
    "scrolled": true
   },
   "outputs": [
    {
     "name": "stdout",
     "output_type": "stream",
     "text": [
      "image -> [1]\n",
      "WARNING:tensorflow:Model was constructed with shape (None, 256, 256, 3) for input Tensor(\"input_1_10:0\", shape=(None, 256, 256, 3), dtype=float32), but it was called on an input with incompatible shape (None, 400, 600, 3).\n",
      "image -> [2]\n",
      "image -> [3]\n",
      "image -> [4]\n",
      "image -> [5]\n",
      "image -> [6]\n",
      "image -> [7]\n",
      "image -> [8]\n",
      "image -> [9]\n",
      "image -> [10]\n",
      "image -> [11]\n",
      "image -> [12]\n",
      "image -> [13]\n",
      "image -> [14]\n",
      "image -> [15]\n",
      "image -> [16]\n",
      "image -> [17]\n",
      "image -> [18]\n",
      "image -> [19]\n",
      "image -> [20]\n",
      "image -> [21]\n",
      "image -> [22]\n",
      "image -> [23]\n",
      "image -> [24]\n",
      "image -> [25]\n",
      "image -> [26]\n",
      "image -> [27]\n",
      "image -> [28]\n",
      "image -> [29]\n",
      "image -> [30]\n"
     ]
    }
   ],
   "source": [
    "\n",
    "de_enhanced_path = './data/test/de_enhanced/'\n",
    "for i in range(test_df.shape[0]):\n",
    "    print('image -> [{}]'.format(i+1))\n",
    "    pred_temp = f_model.predict(test_df[i:(i+1)])\n",
    "    p_im = pred_temp[0,:,:,:]\n",
    "    p_im = (p_im)*255\n",
    "    p_im = np.clip(p_im, 0, 255)\n",
    "    p_im = p_im.astype(np.uint8)\n",
    "    p_im = cv.cvtColor(p_im, cv.COLOR_BGR2RGB)\n",
    "    cv.imwrite(de_enhanced_path+test_images_name[i][0]+'.'+test_images_name[i][1], p_im)"
   ]
  },
  {
   "cell_type": "code",
   "execution_count": 65,
   "id": "011bba4d",
   "metadata": {},
   "outputs": [],
   "source": [
    "test_high_data_name = glob(os.path.join('./data/test/high')+'/*.*')\n",
    "enhanced_data_name = glob(os.path.join('./data/test/de_enhanced/')+'/*.*')"
   ]
  },
  {
   "cell_type": "code",
   "execution_count": 66,
   "id": "0f1b84cd",
   "metadata": {},
   "outputs": [
    {
     "name": "stdout",
     "output_type": "stream",
     "text": [
      "psnr value --> 27.981\n"
     ]
    }
   ],
   "source": [
    "# Calculate psnr\n",
    "\n",
    "psnr_scores = []\n",
    "for idx in range(len(enhanced_data_name)):\n",
    "    low_im = cv.imread(test_high_data_name[idx])\n",
    "    enh_im = cv.imread(enhanced_data_name[idx])\n",
    "    psnr_scores.append(psnr_score(low_im, enh_im))\n",
    "\n",
    "\n",
    "# mean psnr\n",
    "psnr_val = np.round(np.mean(psnr_scores), 3)\n",
    "print('psnr value --> {}'.format(psnr_val))"
   ]
  },
  {
   "cell_type": "code",
   "execution_count": 67,
   "id": "2f4c2820",
   "metadata": {},
   "outputs": [
    {
     "name": "stdout",
     "output_type": "stream",
     "text": [
      "ssim value --> 0.7277\n"
     ]
    }
   ],
   "source": [
    "# Calculate ssim\n",
    "\n",
    "ssim_scores = []\n",
    "for idx in range(len(enhanced_data_name)):\n",
    "    high_im = cv.imread(test_high_data_name[idx])\n",
    "    enh_im = cv.imread(enhanced_data_name[idx])\n",
    "    ssim_scores.append(ssim_score(high_im, enh_im))\n",
    "\n",
    "\n",
    "# mean psnr\n",
    "ssim_val = np.round(np.mean(ssim_scores), 4)\n",
    "print('ssim value --> {}'.format(ssim_val))"
   ]
  },
  {
   "cell_type": "code",
   "execution_count": 68,
   "id": "b7c7a48f",
   "metadata": {},
   "outputs": [
    {
     "name": "stdout",
     "output_type": "stream",
     "text": [
      "brisque value --> 17.9741\n"
     ]
    }
   ],
   "source": [
    "# calculate brisque\n",
    "\n",
    "brisque_scores = []\n",
    "for idx in range(len(enhanced_data_name)):\n",
    "    brisque_scores.append(brisque_score(enhanced_data_name[idx]))\n",
    "\n",
    "# mean brisque\n",
    "brisque_val = np.round(np.mean(brisque_scores), 4)\n",
    "print('brisque value --> {}'.format(brisque_val))"
   ]
  },
  {
   "cell_type": "markdown",
   "id": "470502d0",
   "metadata": {},
   "source": [
    "#### Enhanced Images - Training Data"
   ]
  },
  {
   "cell_type": "code",
   "execution_count": 69,
   "id": "8574c99d",
   "metadata": {
    "scrolled": true
   },
   "outputs": [
    {
     "name": "stdout",
     "output_type": "stream",
     "text": [
      "image -> [1]\n",
      "WARNING:tensorflow:Model was constructed with shape (None, 256, 256, 3) for input Tensor(\"input_1_11:0\", shape=(None, 256, 256, 3), dtype=float32), but it was called on an input with incompatible shape (None, 400, 600, 3).\n",
      "image -> [2]\n",
      "image -> [3]\n",
      "image -> [4]\n",
      "image -> [5]\n",
      "image -> [6]\n",
      "image -> [7]\n",
      "image -> [8]\n",
      "image -> [9]\n",
      "image -> [10]\n",
      "image -> [11]\n",
      "image -> [12]\n",
      "image -> [13]\n",
      "image -> [14]\n",
      "image -> [15]\n",
      "image -> [16]\n",
      "image -> [17]\n",
      "image -> [18]\n",
      "image -> [19]\n",
      "image -> [20]\n",
      "image -> [21]\n",
      "image -> [22]\n",
      "image -> [23]\n",
      "image -> [24]\n",
      "image -> [25]\n",
      "image -> [26]\n",
      "image -> [27]\n",
      "image -> [28]\n",
      "image -> [29]\n",
      "image -> [30]\n",
      "image -> [31]\n",
      "image -> [32]\n",
      "image -> [33]\n",
      "image -> [34]\n",
      "image -> [35]\n",
      "image -> [36]\n",
      "image -> [37]\n",
      "image -> [38]\n",
      "image -> [39]\n",
      "image -> [40]\n",
      "image -> [41]\n",
      "image -> [42]\n",
      "image -> [43]\n",
      "image -> [44]\n",
      "image -> [45]\n",
      "image -> [46]\n",
      "image -> [47]\n",
      "image -> [48]\n",
      "image -> [49]\n",
      "image -> [50]\n",
      "image -> [51]\n",
      "image -> [52]\n",
      "image -> [53]\n",
      "image -> [54]\n",
      "image -> [55]\n",
      "image -> [56]\n",
      "image -> [57]\n",
      "image -> [58]\n",
      "image -> [59]\n",
      "image -> [60]\n",
      "image -> [61]\n",
      "image -> [62]\n",
      "image -> [63]\n",
      "image -> [64]\n",
      "image -> [65]\n",
      "image -> [66]\n",
      "image -> [67]\n",
      "image -> [68]\n",
      "image -> [69]\n",
      "image -> [70]\n",
      "image -> [71]\n",
      "image -> [72]\n",
      "image -> [73]\n",
      "image -> [74]\n",
      "image -> [75]\n",
      "image -> [76]\n",
      "image -> [77]\n",
      "image -> [78]\n",
      "image -> [79]\n",
      "image -> [80]\n",
      "image -> [81]\n",
      "image -> [82]\n",
      "image -> [83]\n",
      "image -> [84]\n",
      "image -> [85]\n",
      "image -> [86]\n",
      "image -> [87]\n",
      "image -> [88]\n",
      "image -> [89]\n",
      "image -> [90]\n",
      "image -> [91]\n",
      "image -> [92]\n",
      "image -> [93]\n",
      "image -> [94]\n",
      "image -> [95]\n",
      "image -> [96]\n",
      "image -> [97]\n",
      "image -> [98]\n",
      "image -> [99]\n",
      "image -> [100]\n",
      "image -> [101]\n",
      "image -> [102]\n",
      "image -> [103]\n",
      "image -> [104]\n",
      "image -> [105]\n",
      "image -> [106]\n",
      "image -> [107]\n",
      "image -> [108]\n",
      "image -> [109]\n",
      "image -> [110]\n",
      "image -> [111]\n",
      "image -> [112]\n",
      "image -> [113]\n",
      "image -> [114]\n",
      "image -> [115]\n",
      "image -> [116]\n",
      "image -> [117]\n",
      "image -> [118]\n",
      "image -> [119]\n",
      "image -> [120]\n",
      "image -> [121]\n",
      "image -> [122]\n",
      "image -> [123]\n",
      "image -> [124]\n",
      "image -> [125]\n",
      "image -> [126]\n",
      "image -> [127]\n",
      "image -> [128]\n",
      "image -> [129]\n",
      "image -> [130]\n",
      "image -> [131]\n",
      "image -> [132]\n",
      "image -> [133]\n",
      "image -> [134]\n",
      "image -> [135]\n",
      "image -> [136]\n",
      "image -> [137]\n",
      "image -> [138]\n",
      "image -> [139]\n",
      "image -> [140]\n",
      "image -> [141]\n",
      "image -> [142]\n",
      "image -> [143]\n",
      "image -> [144]\n",
      "image -> [145]\n",
      "image -> [146]\n",
      "image -> [147]\n",
      "image -> [148]\n",
      "image -> [149]\n",
      "image -> [150]\n",
      "image -> [151]\n",
      "image -> [152]\n",
      "image -> [153]\n",
      "image -> [154]\n",
      "image -> [155]\n",
      "image -> [156]\n",
      "image -> [157]\n",
      "image -> [158]\n",
      "image -> [159]\n",
      "image -> [160]\n",
      "image -> [161]\n",
      "image -> [162]\n",
      "image -> [163]\n",
      "image -> [164]\n",
      "image -> [165]\n",
      "image -> [166]\n",
      "image -> [167]\n",
      "image -> [168]\n",
      "image -> [169]\n",
      "image -> [170]\n",
      "image -> [171]\n",
      "image -> [172]\n",
      "image -> [173]\n",
      "image -> [174]\n",
      "image -> [175]\n",
      "image -> [176]\n",
      "image -> [177]\n",
      "image -> [178]\n",
      "image -> [179]\n",
      "image -> [180]\n",
      "image -> [181]\n",
      "image -> [182]\n",
      "image -> [183]\n",
      "image -> [184]\n",
      "image -> [185]\n",
      "image -> [186]\n",
      "image -> [187]\n",
      "image -> [188]\n",
      "image -> [189]\n",
      "image -> [190]\n",
      "image -> [191]\n",
      "image -> [192]\n",
      "image -> [193]\n",
      "image -> [194]\n",
      "image -> [195]\n",
      "image -> [196]\n",
      "image -> [197]\n",
      "image -> [198]\n",
      "image -> [199]\n",
      "image -> [200]\n",
      "image -> [201]\n",
      "image -> [202]\n",
      "image -> [203]\n",
      "image -> [204]\n",
      "image -> [205]\n",
      "image -> [206]\n",
      "image -> [207]\n",
      "image -> [208]\n",
      "image -> [209]\n",
      "image -> [210]\n",
      "image -> [211]\n",
      "image -> [212]\n",
      "image -> [213]\n",
      "image -> [214]\n",
      "image -> [215]\n",
      "image -> [216]\n",
      "image -> [217]\n",
      "image -> [218]\n",
      "image -> [219]\n",
      "image -> [220]\n",
      "image -> [221]\n",
      "image -> [222]\n",
      "image -> [223]\n",
      "image -> [224]\n",
      "image -> [225]\n",
      "image -> [226]\n",
      "image -> [227]\n",
      "image -> [228]\n",
      "image -> [229]\n",
      "image -> [230]\n",
      "image -> [231]\n",
      "image -> [232]\n",
      "image -> [233]\n",
      "image -> [234]\n",
      "image -> [235]\n",
      "image -> [236]\n",
      "image -> [237]\n",
      "image -> [238]\n",
      "image -> [239]\n",
      "image -> [240]\n",
      "image -> [241]\n",
      "image -> [242]\n",
      "image -> [243]\n",
      "image -> [244]\n",
      "image -> [245]\n",
      "image -> [246]\n",
      "image -> [247]\n",
      "image -> [248]\n",
      "image -> [249]\n",
      "image -> [250]\n",
      "image -> [251]\n",
      "image -> [252]\n",
      "image -> [253]\n",
      "image -> [254]\n",
      "image -> [255]\n",
      "image -> [256]\n",
      "image -> [257]\n",
      "image -> [258]\n",
      "image -> [259]\n",
      "image -> [260]\n",
      "image -> [261]\n",
      "image -> [262]\n",
      "image -> [263]\n",
      "image -> [264]\n",
      "image -> [265]\n",
      "image -> [266]\n",
      "image -> [267]\n",
      "image -> [268]\n",
      "image -> [269]\n",
      "image -> [270]\n",
      "image -> [271]\n",
      "image -> [272]\n",
      "image -> [273]\n",
      "image -> [274]\n",
      "image -> [275]\n",
      "image -> [276]\n",
      "image -> [277]\n",
      "image -> [278]\n",
      "image -> [279]\n",
      "image -> [280]\n",
      "image -> [281]\n",
      "image -> [282]\n",
      "image -> [283]\n",
      "image -> [284]\n",
      "image -> [285]\n",
      "image -> [286]\n",
      "image -> [287]\n",
      "image -> [288]\n",
      "image -> [289]\n",
      "image -> [290]\n",
      "image -> [291]\n",
      "image -> [292]\n",
      "image -> [293]\n",
      "image -> [294]\n",
      "image -> [295]\n",
      "image -> [296]\n",
      "image -> [297]\n",
      "image -> [298]\n",
      "image -> [299]\n",
      "image -> [300]\n",
      "image -> [301]\n",
      "image -> [302]\n",
      "image -> [303]\n",
      "image -> [304]\n",
      "image -> [305]\n",
      "image -> [306]\n",
      "image -> [307]\n",
      "image -> [308]\n",
      "image -> [309]\n",
      "image -> [310]\n",
      "image -> [311]\n",
      "image -> [312]\n",
      "image -> [313]\n",
      "image -> [314]\n",
      "image -> [315]\n",
      "image -> [316]\n",
      "image -> [317]\n",
      "image -> [318]\n",
      "image -> [319]\n",
      "image -> [320]\n",
      "image -> [321]\n",
      "image -> [322]\n",
      "image -> [323]\n",
      "image -> [324]\n",
      "image -> [325]\n",
      "image -> [326]\n",
      "image -> [327]\n",
      "image -> [328]\n",
      "image -> [329]\n",
      "image -> [330]\n",
      "image -> [331]\n",
      "image -> [332]\n",
      "image -> [333]\n",
      "image -> [334]\n",
      "image -> [335]\n",
      "image -> [336]\n",
      "image -> [337]\n",
      "image -> [338]\n",
      "image -> [339]\n",
      "image -> [340]\n",
      "image -> [341]\n",
      "image -> [342]\n",
      "image -> [343]\n",
      "image -> [344]\n",
      "image -> [345]\n",
      "image -> [346]\n",
      "image -> [347]\n",
      "image -> [348]\n",
      "image -> [349]\n",
      "image -> [350]\n",
      "image -> [351]\n",
      "image -> [352]\n",
      "image -> [353]\n",
      "image -> [354]\n",
      "image -> [355]\n",
      "image -> [356]\n",
      "image -> [357]\n",
      "image -> [358]\n",
      "image -> [359]\n",
      "image -> [360]\n",
      "image -> [361]\n",
      "image -> [362]\n",
      "image -> [363]\n",
      "image -> [364]\n",
      "image -> [365]\n",
      "image -> [366]\n",
      "image -> [367]\n",
      "image -> [368]\n",
      "image -> [369]\n",
      "image -> [370]\n",
      "image -> [371]\n",
      "image -> [372]\n",
      "image -> [373]\n",
      "image -> [374]\n",
      "image -> [375]\n",
      "image -> [376]\n",
      "image -> [377]\n",
      "image -> [378]\n",
      "image -> [379]\n",
      "image -> [380]\n",
      "image -> [381]\n",
      "image -> [382]\n",
      "image -> [383]\n",
      "image -> [384]\n",
      "image -> [385]\n",
      "image -> [386]\n",
      "image -> [387]\n",
      "image -> [388]\n",
      "image -> [389]\n",
      "image -> [390]\n",
      "image -> [391]\n",
      "image -> [392]\n",
      "image -> [393]\n",
      "image -> [394]\n",
      "image -> [395]\n",
      "image -> [396]\n",
      "image -> [397]\n",
      "image -> [398]\n",
      "image -> [399]\n",
      "image -> [400]\n",
      "image -> [401]\n",
      "image -> [402]\n",
      "image -> [403]\n",
      "image -> [404]\n",
      "image -> [405]\n",
      "image -> [406]\n",
      "image -> [407]\n",
      "image -> [408]\n",
      "image -> [409]\n",
      "image -> [410]\n",
      "image -> [411]\n",
      "image -> [412]\n",
      "image -> [413]\n",
      "image -> [414]\n",
      "image -> [415]\n",
      "image -> [416]\n",
      "image -> [417]\n",
      "image -> [418]\n",
      "image -> [419]\n",
      "image -> [420]\n",
      "image -> [421]\n",
      "image -> [422]\n",
      "image -> [423]\n",
      "image -> [424]\n",
      "image -> [425]\n",
      "image -> [426]\n",
      "image -> [427]\n",
      "image -> [428]\n",
      "image -> [429]\n",
      "image -> [430]\n",
      "image -> [431]\n",
      "image -> [432]\n",
      "image -> [433]\n",
      "image -> [434]\n",
      "image -> [435]\n",
      "image -> [436]\n",
      "image -> [437]\n",
      "image -> [438]\n",
      "image -> [439]\n",
      "image -> [440]\n",
      "image -> [441]\n",
      "image -> [442]\n",
      "image -> [443]\n",
      "image -> [444]\n",
      "image -> [445]\n",
      "image -> [446]\n",
      "image -> [447]\n",
      "image -> [448]\n",
      "image -> [449]\n",
      "image -> [450]\n",
      "image -> [451]\n",
      "image -> [452]\n",
      "image -> [453]\n",
      "image -> [454]\n",
      "image -> [455]\n",
      "image -> [456]\n",
      "image -> [457]\n",
      "image -> [458]\n",
      "image -> [459]\n",
      "image -> [460]\n",
      "image -> [461]\n",
      "image -> [462]\n",
      "image -> [463]\n",
      "image -> [464]\n",
      "image -> [465]\n",
      "image -> [466]\n",
      "image -> [467]\n",
      "image -> [468]\n",
      "image -> [469]\n",
      "image -> [470]\n"
     ]
    }
   ],
   "source": [
    "# load the model and test\n",
    "\n",
    "f_model = load_model(dae_checkpoint)\n",
    "\n",
    "de_enhanced_path = './data/train/de_enhanced/'\n",
    "for i in range(train_df.shape[0]):\n",
    "    print('image -> [{}]'.format(i+1))\n",
    "    pred_temp = f_model.predict(train_df[i:(i+1)])\n",
    "    p_im = pred_temp[0,:,:,:]\n",
    "    p_im = (p_im)*255\n",
    "    p_im = np.clip(p_im, 0, 255)\n",
    "    p_im = p_im.astype(np.uint8)\n",
    "    p_im = cv.cvtColor(p_im, cv.COLOR_BGR2RGB)\n",
    "    cv.imwrite(de_enhanced_path+train_images_name[i][0]+'.'+train_images_name[i][1], p_im)"
   ]
  },
  {
   "cell_type": "code",
   "execution_count": 70,
   "id": "de4f3328",
   "metadata": {},
   "outputs": [],
   "source": [
    "all_high_data_name = glob(os.path.join('./data/train/high')+'/*.*')\n",
    "all_enhanced_data_name = glob(os.path.join('./data/train/de_enhanced/')+'/*.*')"
   ]
  },
  {
   "cell_type": "code",
   "execution_count": 71,
   "id": "1eb29b04",
   "metadata": {},
   "outputs": [
    {
     "name": "stdout",
     "output_type": "stream",
     "text": [
      "psnr value --> 28.129\n"
     ]
    }
   ],
   "source": [
    "# Calculate psnr\n",
    "\n",
    "psnr_scores = []\n",
    "for idx in range(len(all_enhanced_data_name)):\n",
    "    high_im = cv.imread(all_high_data_name[idx])\n",
    "    enh_im = cv.imread(all_enhanced_data_name[idx])\n",
    "    psnr_scores.append(psnr_score(high_im, enh_im))\n",
    "\n",
    "\n",
    "# mean psnr\n",
    "psnr_val = np.round(np.mean(psnr_scores), 3)\n",
    "print('psnr value --> {}'.format(psnr_val))"
   ]
  },
  {
   "cell_type": "code",
   "execution_count": 72,
   "id": "2b134679",
   "metadata": {},
   "outputs": [
    {
     "name": "stdout",
     "output_type": "stream",
     "text": [
      "ssim value --> 0.6852\n"
     ]
    }
   ],
   "source": [
    "# Calculate ssim\n",
    "\n",
    "ssim_scores = []\n",
    "for idx in range(len(all_enhanced_data_name)):\n",
    "    high_im = cv.imread(all_high_data_name[idx])\n",
    "    enh_im = cv.imread(all_enhanced_data_name[idx])\n",
    "    ssim_scores.append(ssim_score(high_im, enh_im))\n",
    "\n",
    "\n",
    "# mean psnr\n",
    "ssim_val = np.round(np.mean(ssim_scores), 4)\n",
    "print('ssim value --> {}'.format(ssim_val))"
   ]
  },
  {
   "cell_type": "code",
   "execution_count": 73,
   "id": "9de7b0e7",
   "metadata": {},
   "outputs": [
    {
     "name": "stdout",
     "output_type": "stream",
     "text": [
      "brisque value --> 20.042\n"
     ]
    }
   ],
   "source": [
    "# calculate brisque\n",
    "\n",
    "brisque_scores = []\n",
    "for idx in range(len(all_enhanced_data_name)):\n",
    "    brisque_scores.append(brisque_score(all_enhanced_data_name[idx]))\n",
    "\n",
    "# mean brisque\n",
    "brisque_val = np.round(np.mean(brisque_scores), 4)\n",
    "print('brisque value --> {}'.format(brisque_val))"
   ]
  },
  {
   "cell_type": "markdown",
   "id": "0e5620d9",
   "metadata": {},
   "source": [
    "### ExDark Dataset"
   ]
  },
  {
   "cell_type": "code",
   "execution_count": 74,
   "id": "12b432cf",
   "metadata": {},
   "outputs": [],
   "source": [
    "exdark_images = sorted(os.listdir('./validation_data/ExDark/be_enhanced'))\n",
    "exdark_image = []\n",
    "for im in exdark_images:\n",
    "    img = image.load_img('./validation_data/ExDark/be_enhanced/'+ im, color_mode= 'rgb')\n",
    "    img = image.img_to_array(img)\n",
    "    img = img/255\n",
    "    exdark_image.append(img)\n",
    "exdark_df = np.array(exdark_image)"
   ]
  },
  {
   "cell_type": "code",
   "execution_count": 75,
   "id": "04aaeb8e",
   "metadata": {},
   "outputs": [
    {
     "data": {
      "text/plain": [
       "(100, 400, 600, 3)"
      ]
     },
     "execution_count": 75,
     "metadata": {},
     "output_type": "execute_result"
    }
   ],
   "source": [
    "exdark_df.shape"
   ]
  },
  {
   "cell_type": "code",
   "execution_count": 76,
   "id": "5cf6b2bd",
   "metadata": {},
   "outputs": [],
   "source": [
    "exdark_images_name = []\n",
    "for i in range(len(exdark_images)):\n",
    "    temp = []\n",
    "    temp.append(exdark_images[i].split('.')[0])\n",
    "    temp.append(exdark_images[i].split('.')[1])\n",
    "    exdark_images_name.append(temp)"
   ]
  },
  {
   "cell_type": "code",
   "execution_count": 77,
   "id": "57da18c3",
   "metadata": {},
   "outputs": [
    {
     "data": {
      "text/plain": [
       "[['010013', 'jpg'],\n",
       " ['020015', 'jpg'],\n",
       " ['020462', 'jpg'],\n",
       " ['030101', 'jpg'],\n",
       " ['030295', 'jpg']]"
      ]
     },
     "execution_count": 77,
     "metadata": {},
     "output_type": "execute_result"
    }
   ],
   "source": [
    "exdark_images_name[0:5]"
   ]
  },
  {
   "cell_type": "code",
   "execution_count": 78,
   "id": "68252afb",
   "metadata": {
    "scrolled": true
   },
   "outputs": [
    {
     "name": "stdout",
     "output_type": "stream",
     "text": [
      "image -> [1]\n",
      "WARNING:tensorflow:Model was constructed with shape (None, 256, 256, 3) for input Tensor(\"input_1_12:0\", shape=(None, 256, 256, 3), dtype=float32), but it was called on an input with incompatible shape (None, 400, 600, 3).\n",
      "image -> [2]\n",
      "image -> [3]\n",
      "image -> [4]\n",
      "image -> [5]\n",
      "image -> [6]\n",
      "image -> [7]\n",
      "image -> [8]\n",
      "image -> [9]\n",
      "image -> [10]\n",
      "image -> [11]\n",
      "image -> [12]\n",
      "image -> [13]\n",
      "image -> [14]\n",
      "image -> [15]\n",
      "image -> [16]\n",
      "image -> [17]\n",
      "image -> [18]\n",
      "image -> [19]\n",
      "image -> [20]\n",
      "image -> [21]\n",
      "image -> [22]\n",
      "image -> [23]\n",
      "image -> [24]\n",
      "image -> [25]\n",
      "image -> [26]\n",
      "image -> [27]\n",
      "image -> [28]\n",
      "image -> [29]\n",
      "image -> [30]\n",
      "image -> [31]\n",
      "image -> [32]\n",
      "image -> [33]\n",
      "image -> [34]\n",
      "image -> [35]\n",
      "image -> [36]\n",
      "image -> [37]\n",
      "image -> [38]\n",
      "image -> [39]\n",
      "image -> [40]\n",
      "image -> [41]\n",
      "image -> [42]\n",
      "image -> [43]\n",
      "image -> [44]\n",
      "image -> [45]\n",
      "image -> [46]\n",
      "image -> [47]\n",
      "image -> [48]\n",
      "image -> [49]\n",
      "image -> [50]\n",
      "image -> [51]\n",
      "image -> [52]\n",
      "image -> [53]\n",
      "image -> [54]\n",
      "image -> [55]\n",
      "image -> [56]\n",
      "image -> [57]\n",
      "image -> [58]\n",
      "image -> [59]\n",
      "image -> [60]\n",
      "image -> [61]\n",
      "image -> [62]\n",
      "image -> [63]\n",
      "image -> [64]\n",
      "image -> [65]\n",
      "image -> [66]\n",
      "image -> [67]\n",
      "image -> [68]\n",
      "image -> [69]\n",
      "image -> [70]\n",
      "image -> [71]\n",
      "image -> [72]\n",
      "image -> [73]\n",
      "image -> [74]\n",
      "image -> [75]\n",
      "image -> [76]\n",
      "image -> [77]\n",
      "image -> [78]\n",
      "image -> [79]\n",
      "image -> [80]\n",
      "image -> [81]\n",
      "image -> [82]\n",
      "image -> [83]\n",
      "image -> [84]\n",
      "image -> [85]\n",
      "image -> [86]\n",
      "image -> [87]\n",
      "image -> [88]\n",
      "image -> [89]\n",
      "image -> [90]\n",
      "image -> [91]\n",
      "image -> [92]\n",
      "image -> [93]\n",
      "image -> [94]\n",
      "image -> [95]\n",
      "image -> [96]\n",
      "image -> [97]\n",
      "image -> [98]\n",
      "image -> [99]\n",
      "image -> [100]\n"
     ]
    }
   ],
   "source": [
    "# load the model and test\n",
    "\n",
    "f_model = load_model(dae_checkpoint)\n",
    "\n",
    "de_enhanced_path = './validation_data/ExDark/de_enhanced/'\n",
    "for i in range(exdark_df.shape[0]):\n",
    "    print('image -> [{}]'.format(i+1))\n",
    "    pred_temp = f_model.predict(exdark_df[i:(i+1)])\n",
    "    p_im = pred_temp[0,:,:,:]\n",
    "    p_im = (p_im)*255\n",
    "    p_im = np.clip(p_im, 0, 255)\n",
    "    p_im = p_im.astype(np.uint8)\n",
    "    p_im = cv.cvtColor(p_im, cv.COLOR_BGR2RGB)\n",
    "    cv.imwrite(de_enhanced_path+exdark_images_name[i][0]+'.'+exdark_images_name[i][1], p_im)"
   ]
  },
  {
   "cell_type": "code",
   "execution_count": 79,
   "id": "e1e852ba",
   "metadata": {},
   "outputs": [],
   "source": [
    "val_enhanced_data_name = glob(os.path.join('./validation_data/ExDark/de_enhanced/')+'/*.*')"
   ]
  },
  {
   "cell_type": "code",
   "execution_count": 80,
   "id": "404af8f7",
   "metadata": {},
   "outputs": [
    {
     "name": "stdout",
     "output_type": "stream",
     "text": [
      "brisque value --> 33.3252\n"
     ]
    }
   ],
   "source": [
    "# calculate brisque\n",
    "\n",
    "brisque_scores = []\n",
    "for idx in range(len(val_enhanced_data_name)):\n",
    "    brisque_scores.append(brisque_score(val_enhanced_data_name[idx]))\n",
    "\n",
    "# mean brisque\n",
    "brisque_val = np.round(np.mean(brisque_scores), 4)\n",
    "print('brisque value --> {}'.format(brisque_val))"
   ]
  },
  {
   "cell_type": "code",
   "execution_count": null,
   "id": "c70d2dae",
   "metadata": {},
   "outputs": [],
   "source": []
  },
  {
   "cell_type": "raw",
   "id": "212300eb",
   "metadata": {},
   "source": []
  }
 ],
 "metadata": {
  "kernelspec": {
   "display_name": "Python 3",
   "language": "python",
   "name": "python3"
  },
  "language_info": {
   "codemirror_mode": {
    "name": "ipython",
    "version": 3
   },
   "file_extension": ".py",
   "mimetype": "text/x-python",
   "name": "python",
   "nbconvert_exporter": "python",
   "pygments_lexer": "ipython3",
   "version": "3.8.10"
  }
 },
 "nbformat": 4,
 "nbformat_minor": 5
}
