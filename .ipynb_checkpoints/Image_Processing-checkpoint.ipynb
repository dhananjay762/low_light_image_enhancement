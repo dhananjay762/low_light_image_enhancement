{
 "cells": [
  {
   "cell_type": "code",
   "execution_count": 3,
   "id": "7f5e5b71",
   "metadata": {},
   "outputs": [],
   "source": [
    "import cv2 as cv\n",
    "from glob import glob\n",
    "import os"
   ]
  },
  {
   "cell_type": "code",
   "execution_count": 6,
   "id": "36ccfa34",
   "metadata": {},
   "outputs": [],
   "source": [
    "ex_dataset = glob(os.path.join('./validation_data/ExDark/test/*.*'))"
   ]
  },
  {
   "cell_type": "code",
   "execution_count": 17,
   "id": "d9e47a00",
   "metadata": {
    "scrolled": true
   },
   "outputs": [
    {
     "data": {
      "text/plain": [
       "'./validation_data/ExDark/test\\\\2015_01353.jpg'"
      ]
     },
     "execution_count": 17,
     "metadata": {},
     "output_type": "execute_result"
    }
   ],
   "source": [
    "ex_dataset[10]"
   ]
  },
  {
   "cell_type": "code",
   "execution_count": 12,
   "id": "adb31eb0",
   "metadata": {},
   "outputs": [
    {
     "data": {
      "text/plain": [
       "'2015_00036.jpg'"
      ]
     },
     "execution_count": 12,
     "metadata": {},
     "output_type": "execute_result"
    }
   ],
   "source": [
    "ex_dataset[0].split(\"\\\\\")[1]"
   ]
  },
  {
   "cell_type": "code",
   "execution_count": 15,
   "id": "7d783935",
   "metadata": {},
   "outputs": [],
   "source": [
    "exdark_images_name = []\n",
    "for i in range(len(ex_dataset)):\n",
    "    exdark_images_name.append(ex_dataset[i].split(\"\\\\\")[1])"
   ]
  },
  {
   "cell_type": "code",
   "execution_count": 18,
   "id": "e94c9304",
   "metadata": {},
   "outputs": [
    {
     "data": {
      "text/plain": [
       "'2015_01353.jpg'"
      ]
     },
     "execution_count": 18,
     "metadata": {},
     "output_type": "execute_result"
    }
   ],
   "source": [
    "exdark_images_name[10]"
   ]
  },
  {
   "cell_type": "code",
   "execution_count": 19,
   "id": "2054c7f9",
   "metadata": {},
   "outputs": [],
   "source": [
    "assert len(ex_dataset) == len(exdark_images_name)"
   ]
  },
  {
   "cell_type": "code",
   "execution_count": 28,
   "id": "fa18c292",
   "metadata": {},
   "outputs": [],
   "source": [
    "for i in range(len(ex_dataset)):\n",
    "    img = cv.imread(ex_dataset[i])\n",
    "    img = cv.resize(img, (600,400))\n",
    "    cv.imwrite('./validation_data/ExDark/test2/'+exdark_images_name[i], img)"
   ]
  },
  {
   "cell_type": "code",
   "execution_count": 29,
   "id": "6b268c0f",
   "metadata": {},
   "outputs": [
    {
     "data": {
      "text/plain": [
       "(400, 600, 3)"
      ]
     },
     "execution_count": 29,
     "metadata": {},
     "output_type": "execute_result"
    }
   ],
   "source": [
    "img.shape"
   ]
  },
  {
   "cell_type": "code",
   "execution_count": null,
   "id": "701a7872",
   "metadata": {},
   "outputs": [],
   "source": []
  }
 ],
 "metadata": {
  "kernelspec": {
   "display_name": "Python 3",
   "language": "python",
   "name": "python3"
  },
  "language_info": {
   "codemirror_mode": {
    "name": "ipython",
    "version": 3
   },
   "file_extension": ".py",
   "mimetype": "text/x-python",
   "name": "python",
   "nbconvert_exporter": "python",
   "pygments_lexer": "ipython3",
   "version": "3.8.10"
  }
 },
 "nbformat": 4,
 "nbformat_minor": 5
}
