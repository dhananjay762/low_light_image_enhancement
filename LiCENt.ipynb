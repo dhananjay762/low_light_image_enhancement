{
 "cells": [
  {
   "cell_type": "code",
   "execution_count": 1,
   "metadata": {
    "colab": {
     "base_uri": "https://localhost:8080/"
    },
    "executionInfo": {
     "elapsed": 3835,
     "status": "ok",
     "timestamp": 1668020916343,
     "user": {
      "displayName": "Dhananjay Dewangan",
      "userId": "12832676425247193212"
     },
     "user_tz": -330
    },
    "id": "ylCo59hiqPdU",
    "outputId": "00da2bf0-3b72-45b6-d90c-b65e2ab60378"
   },
   "outputs": [],
   "source": [
    "# from google.colab import drive\n",
    "# drive.mount('/gdrive')\n",
    "\n",
    "# import sys\n",
    "# sys.path.append('/gdrive/MyDrive/Colab Notebooks/Low Light Image Enhancement/LiCENt/')"
   ]
  },
  {
   "cell_type": "code",
   "execution_count": 2,
   "metadata": {
    "colab": {
     "base_uri": "https://localhost:8080/"
    },
    "executionInfo": {
     "elapsed": 3352,
     "status": "ok",
     "timestamp": 1668020927844,
     "user": {
      "displayName": "Dhananjay Dewangan",
      "userId": "12832676425247193212"
     },
     "user_tz": -330
    },
    "id": "NuUDQnesi1xh",
    "outputId": "81ffac78-235c-4ea5-ad18-61c47e0db4a3"
   },
   "outputs": [
    {
     "name": "stderr",
     "output_type": "stream",
     "text": [
      "C:\\Users\\HP\\anaconda3\\lib\\site-packages\\scipy\\__init__.py:138: UserWarning: A NumPy version >=1.16.5 and <1.23.0 is required for this version of SciPy (detected version 1.23.5)\n",
      "  warnings.warn(f\"A NumPy version >={np_minversion} and <{np_maxversion} is required for this version of \"\n"
     ]
    },
    {
     "name": "stdout",
     "output_type": "stream",
     "text": [
      "WARNING:tensorflow:From C:\\Users\\HP\\anaconda3\\lib\\site-packages\\tensorflow\\python\\compat\\v2_compat.py:96: disable_resource_variables (from tensorflow.python.ops.variable_scope) is deprecated and will be removed in a future version.\n",
      "Instructions for updating:\n",
      "non-resource variables are not supported in the long term\n"
     ]
    }
   ],
   "source": [
    "from __future__ import print_function\n",
    "import os\n",
    "import argparse\n",
    "from glob import glob\n",
    "import cv2 as cv\n",
    "import tensorflow.compat.v1 as tf\n",
    "tf.disable_v2_behavior()\n",
    "from model import LLE\n",
    "from utils import *\n",
    "\n",
    "from keras.preprocessing import image\n",
    "from keras.models import Sequential, Model\n",
    "from keras.layers import Dense, Conv2D, MaxPooling2D, MaxPool2D ,UpSampling2D, Flatten, Input\n",
    "from keras.optimizers import SGD, Adam, Adadelta, Adagrad\n",
    "from keras import backend as K\n",
    "from tensorflow.keras.callbacks import EarlyStopping\n",
    "from tensorflow.keras.models import load_model\n",
    "from sklearn.model_selection import train_test_split"
   ]
  },
  {
   "cell_type": "code",
   "execution_count": 3,
   "metadata": {
    "executionInfo": {
     "elapsed": 523,
     "status": "ok",
     "timestamp": 1668020931157,
     "user": {
      "displayName": "Dhananjay Dewangan",
      "userId": "12832676425247193212"
     },
     "user_tz": -330
    },
    "id": "NMotHJ-Ji3gb"
   },
   "outputs": [],
   "source": [
    "# # Take command line arguments and save as variable\n",
    "\n",
    "# tf.reset_default_graph()\n",
    "# parser = argparse.ArgumentParser(description='')\n",
    "# parser.add_argument('--use_gpu', dest='use_gpu', type=int, help='1 for GPU and 0 for CPU')\n",
    "# parser.add_argument('--phase', dest='phase', default='train', help='train or test')\n",
    "# parser.add_argument('--epoch', dest='epoch', type=int, default=100, help='number of epoches')\n",
    "# parser.add_argument('--batch_size', dest='batch_size', type=int, default=5, help='number of samples in one batch')\n",
    "# parser.add_argument('--patch_size', dest='patch_size', type=int, default=256, help='patch size')\n",
    "# parser.add_argument('--checkpoint_dir', dest='ckpt_dir', default='./checkpoint', help='directory for checkpoints')\n",
    "# parser.add_argument('--save_dir', dest='save_dir', default='./Enhanced_result', help='directory for testing outputs')\n",
    "# parser.add_argument('--test_dir', dest='test_dir', default='./data/test', help='directory for testing inputs')\n",
    "# args = parser.parse_args()"
   ]
  },
  {
   "cell_type": "code",
   "execution_count": null,
   "metadata": {
    "executionInfo": {
     "elapsed": 6,
     "status": "ok",
     "timestamp": 1668020934322,
     "user": {
      "displayName": "Dhananjay Dewangan",
      "userId": "12832676425247193212"
     },
     "user_tz": -330
    },
    "id": "YFAInk9ii3pm"
   },
   "outputs": [],
   "source": []
  },
  {
   "cell_type": "code",
   "execution_count": 4,
   "metadata": {
    "executionInfo": {
     "elapsed": 4,
     "status": "ok",
     "timestamp": 1668020934997,
     "user": {
      "displayName": "Dhananjay Dewangan",
      "userId": "12832676425247193212"
     },
     "user_tz": -330
    },
    "id": "UcaphH_Vk7RG"
   },
   "outputs": [],
   "source": [
    "def LiCENt_train(lle_model, checkpoint_dir, train_data_path_low, train_data_path_high, image_format, batch_size, patch_size, epochs):\n",
    "    if not os.path.exists(checkpoint_dir):\n",
    "        os.makedirs(checkpoint_dir)\n",
    "    train_low_data = []\n",
    "    train_high_data = []\n",
    "    train_low_data_names = glob(train_data_path_low+'/*.'+image_format)\n",
    "    train_low_data_names.sort()\n",
    "    train_high_data_names = glob(train_data_path_high+'/*.'+image_format)\n",
    "    train_high_data_names.sort()\n",
    "    assert len(train_low_data_names) == len(train_high_data_names)\n",
    "    print('[*] Number of training data: %d' % len(train_low_data_names))\n",
    "    print('prepare training data')\n",
    "    for idx in range(len(train_low_data_names)):\n",
    "        if (idx+1)%100 == 0:\n",
    "            print('%d / %d' % (idx+1, len(train_low_data_names)))\n",
    "        low_im = load_img(train_low_data_names[idx], flag=0)\n",
    "        low_im = low_im[:,:,np.newaxis]\n",
    "        train_low_data.append(low_im)\n",
    "        high_im = load_img(train_high_data_names[idx], flag=0)\n",
    "        high_im = high_im[:,:,np.newaxis]\n",
    "        train_high_data.append(high_im)\n",
    "    print('Training data ready, Total training data: %d' % len(train_low_data))\n",
    "    training_loss = lle_model.train(train_low_data, train_high_data, batch_size=batch_size, patch_size=patch_size, epoch=epochs, ckpt_dir=checkpoint_dir)\n",
    "    return training_loss\n"
   ]
  },
  {
   "cell_type": "code",
   "execution_count": 5,
   "metadata": {
    "executionInfo": {
     "elapsed": 6,
     "status": "ok",
     "timestamp": 1668020937079,
     "user": {
      "displayName": "Dhananjay Dewangan",
      "userId": "12832676425247193212"
     },
     "user_tz": -330
    },
    "id": "blcIK6N3xhC6"
   },
   "outputs": [],
   "source": [
    "def LiCENt_test(lle_model, checkpoint_dir, test_dir_path, save_dir_path):\n",
    "    if test_dir_path==None:\n",
    "        print('[!] NO TESTING DATA')\n",
    "        exit(0)\n",
    "    if not os.path.exists(save_dir_path):\n",
    "        os.makedirs(save_dir_path)\n",
    "    test_low_data_name = glob(os.path.join(test_dir_path)+'/*.*')\n",
    "    test_low_data = []\n",
    "    test_low_data_l = []\n",
    "    for idx in range(len(test_low_data_name)):\n",
    "        test_low_im = load_img(test_low_data_name[idx], flag=1)\n",
    "        test_low_im = cv.cvtColor(test_low_im, cv.COLOR_BGR2HLS)\n",
    "        test_low_hls = test_low_im[:,:,:]\n",
    "        test_low_data.append(test_low_hls)\n",
    "        light_comp = cv.split(test_low_im)[1]\n",
    "        light_comp = np.array(light_comp, dtype='float32')/255.0\n",
    "        test_low_im_l = light_comp[ :, :, np.newaxis]\n",
    "        test_low_data_l.append(test_low_im_l)\n",
    "    lle_model.test(checkpoint_dir, test_low_data_l, test_low_data, test_low_data_name, save_dir_path)"
   ]
  },
  {
   "cell_type": "code",
   "execution_count": 6,
   "metadata": {
    "executionInfo": {
     "elapsed": 6,
     "status": "ok",
     "timestamp": 1668020943880,
     "user": {
      "displayName": "Dhananjay Dewangan",
      "userId": "12832676425247193212"
     },
     "user_tz": -330
    },
    "id": "8BSlJOA09px5"
   },
   "outputs": [],
   "source": [
    "def create_session(gpu_mode):\n",
    "    if gpu_mode==1:\n",
    "        print('[*] GPU Mode\\n')\n",
    "        os.environ[\"CUDA_DEVICE_ORDER\"] = \"PCI_BUS_ID\"\n",
    "        os.environ[\"CUDA_VISIBLE_DEVICES\"] = '0'\n",
    "        gpu_options = tf.GPUOptions(per_process_gpu_memory_fraction=1)\n",
    "        session = tf.Session(config=tf.ConfigProto(gpu_options=gpu_options))\n",
    "        return session\n",
    "    else:\n",
    "        print('[*] CPU Mode\\n')\n",
    "        session = tf.Session()\n",
    "        return session\n"
   ]
  },
  {
   "cell_type": "code",
   "execution_count": 7,
   "metadata": {
    "colab": {
     "base_uri": "https://localhost:8080/"
    },
    "executionInfo": {
     "elapsed": 890384,
     "status": "ok",
     "timestamp": 1668021888952,
     "user": {
      "displayName": "Dhananjay Dewangan",
      "userId": "12832676425247193212"
     },
     "user_tz": -330
    },
    "id": "PazhbIW_7lJc",
    "outputId": "4379f6c5-08fe-49fe-b84b-0269dbbdf778",
    "scrolled": true
   },
   "outputs": [
    {
     "name": "stdout",
     "output_type": "stream",
     "text": [
      "[*] GPU Mode\n",
      "\n",
      "WARNING:tensorflow:From C:\\Users\\HP\\Documents\\Python Scripts\\Masters Program\\MSc Research - Image Enhancement\\Model_Building\\LiCENt_Proposed\\model.py:202: conv2d (from tensorflow.python.keras.legacy_tf_layers.convolutional) is deprecated and will be removed in a future version.\n",
      "Instructions for updating:\n",
      "Use `tf.keras.layers.Conv2D` instead.\n",
      "WARNING:tensorflow:From C:\\Users\\HP\\anaconda3\\lib\\site-packages\\tensorflow\\python\\keras\\legacy_tf_layers\\convolutional.py:424: Layer.apply (from tensorflow.python.keras.engine.base_layer_v1) is deprecated and will be removed in a future version.\n",
      "Instructions for updating:\n",
      "Please use `layer.__call__` method instead.\n",
      "[*] Initialize model successfully...\n",
      "[*] Number of training data: 470\n",
      "prepare training data\n",
      "100 / 470\n",
      "200 / 470\n",
      "300 / 470\n",
      "400 / 470\n",
      "Training data ready, Total training data: 470\n",
      "INFO:tensorflow:Restoring parameters from ./checkpoint\\LiCENt-9400\n",
      "[*] Model restore success!\n",
      "[*] Start training with start epoch 100 start iter 9400 : \n",
      "[*] Finish training, total_training_time : time : 0.0000 \n"
     ]
    }
   ],
   "source": [
    "## Run the model for training\n",
    "\n",
    "# Declare experiment level variables\n",
    "use_gpu = 1\n",
    "phase = 'train'\n",
    "epochs = 5\n",
    "batch_size = 5\n",
    "patch_size = 256\n",
    "image_format = \"*\"\n",
    "ckpt_dir = './checkpoint'\n",
    "train_data_path_low = './data/train/low'\n",
    "train_data_path_high = './data/train/high'\n",
    "\n",
    "# ckpt_dir = '/gdrive/MyDrive/Colab Notebooks/Low Light Image Enhancement/LiCENt/checkpoint'\n",
    "# train_data_path_low = '/gdrive/MyDrive/Colab Notebooks/Low Light Image Enhancement/LiCENt/data/train/low'\n",
    "# train_data_path_high = '/gdrive/MyDrive/Colab Notebooks/Low Light Image Enhancement/LiCENt/data/train/high'\n",
    "\n",
    "\n",
    "#Train the model\n",
    "tf.reset_default_graph()\n",
    "session = create_session(gpu_mode=use_gpu)\n",
    "model = LLE(session)\n",
    "training_loss = LiCENt_train(model, ckpt_dir, train_data_path_low, train_data_path_high, image_format, batch_size, patch_size, epochs)"
   ]
  },
  {
   "cell_type": "code",
   "execution_count": 8,
   "metadata": {
    "executionInfo": {
     "elapsed": 8,
     "status": "ok",
     "timestamp": 1668022242595,
     "user": {
      "displayName": "Dhananjay Dewangan",
      "userId": "12832676425247193212"
     },
     "user_tz": -330
    },
    "id": "_f94HMyTngh4"
   },
   "outputs": [],
   "source": [
    "# Training loss\n",
    "\n",
    "import seaborn as sns\n",
    "import matplotlib.pyplot as plt\n",
    "%matplotlib inline"
   ]
  },
  {
   "cell_type": "code",
   "execution_count": 9,
   "metadata": {
    "colab": {
     "base_uri": "https://localhost:8080/",
     "height": 388
    },
    "executionInfo": {
     "elapsed": 648,
     "status": "ok",
     "timestamp": 1668022407726,
     "user": {
      "displayName": "Dhananjay Dewangan",
      "userId": "12832676425247193212"
     },
     "user_tz": -330
    },
    "id": "gXgeI1tT3nxS",
    "outputId": "4b01acb6-0229-4abf-b3e7-3f3db6a9274e"
   },
   "outputs": [
    {
     "data": {
      "image/png": "[encoded data removed]",
      "text/plain": [
       "<Figure size 720x432 with 1 Axes>"
      ]
     },
     "metadata": {
      "needs_background": "light"
     },
     "output_type": "display_data"
    }
   ],
   "source": [
    "plt.figure(figsize=(10,6))\n",
    "sns.lineplot(x=range(1, epochs+1), y=training_loss)\n",
    "plt.xlabel('Number of Epochs')\n",
    "plt.ylabel('Training loss (SSIM Loss)')\n",
    "plt.show()"
   ]
  },
  {
   "cell_type": "code",
   "execution_count": null,
   "metadata": {
    "executionInfo": {
     "elapsed": 415,
     "status": "ok",
     "timestamp": 1668022423844,
     "user": {
      "displayName": "Dhananjay Dewangan",
      "userId": "12832676425247193212"
     },
     "user_tz": -330
    },
    "id": "ENY0UwNN3nk_"
   },
   "outputs": [],
   "source": []
  },
  {
   "cell_type": "code",
   "execution_count": 8,
   "metadata": {
    "colab": {
     "base_uri": "https://localhost:8080/"
    },
    "executionInfo": {
     "elapsed": 2862,
     "status": "ok",
     "timestamp": 1668022428672,
     "user": {
      "displayName": "Dhananjay Dewangan",
      "userId": "12832676425247193212"
     },
     "user_tz": -330
    },
    "id": "6fatNfi678cD",
    "outputId": "0094d9df-4b8e-47da-c9e6-4f869f11d80d",
    "scrolled": true
   },
   "outputs": [
    {
     "name": "stdout",
     "output_type": "stream",
     "text": [
      "[*] GPU Mode\n",
      "\n",
      "[*] Initialize model successfully...\n",
      "[*] Reading checkpoint...\n",
      "INFO:tensorflow:Restoring parameters from ./checkpoint\\LiCENt-9400\n",
      "[*] Load weights successfully...\n",
      "[*] Testing...\n",
      "No.[1/30]\n",
      "No.[2/30]\n",
      "No.[3/30]\n",
      "No.[4/30]\n",
      "No.[5/30]\n",
      "No.[6/30]\n",
      "No.[7/30]\n",
      "No.[8/30]\n",
      "No.[9/30]\n",
      "No.[10/30]\n",
      "No.[11/30]\n",
      "No.[12/30]\n",
      "No.[13/30]\n",
      "No.[14/30]\n",
      "No.[15/30]\n",
      "No.[16/30]\n",
      "No.[17/30]\n",
      "No.[18/30]\n",
      "No.[19/30]\n",
      "No.[20/30]\n",
      "No.[21/30]\n",
      "No.[22/30]\n",
      "No.[23/30]\n",
      "No.[24/30]\n",
      "No.[25/30]\n",
      "No.[26/30]\n",
      "No.[27/30]\n",
      "No.[28/30]\n",
      "No.[29/30]\n",
      "No.[30/30]\n",
      "[*] Average run time: 0.1771\n"
     ]
    }
   ],
   "source": [
    "# Testing\n",
    "\n",
    "# Declare experiment level variables\n",
    "use_gpu = 1\n",
    "ckpt_dir = './checkpoint'\n",
    "save_dir = './data/test/be_enhanced/'\n",
    "test_dir = './data/test/low'\n",
    "\n",
    "# ckpt_dir = '/gdrive/MyDrive/Colab Notebooks/Low Light Image Enhancement/LiCENt/checkpoint'\n",
    "# save_dir = '/gdrive/MyDrive/Colab Notebooks/Low Light Image Enhancement/LiCENt/enhanced_result'\n",
    "# test_dir = '/gdrive/MyDrive/Colab Notebooks/Low Light Image Enhancement/LiCENt/data/test/low'\n",
    "\n",
    "# Test the model\n",
    "tf.reset_default_graph()\n",
    "session = create_session(gpu_mode=use_gpu)\n",
    "model = LLE(session)\n",
    "LiCENt_test(model, ckpt_dir, test_dir, save_dir)"
   ]
  },
  {
   "cell_type": "markdown",
   "metadata": {
    "id": "U-N9CREGFWyl"
   },
   "source": [
    "#### Evaluate the model"
   ]
  },
  {
   "cell_type": "code",
   "execution_count": 9,
   "metadata": {
    "executionInfo": {
     "elapsed": 703,
     "status": "ok",
     "timestamp": 1668022437849,
     "user": {
      "displayName": "Dhananjay Dewangan",
      "userId": "12832676425247193212"
     },
     "user_tz": -330
    },
    "id": "F0OGwjGxFWyo"
   },
   "outputs": [],
   "source": [
    "test_low_data_name = glob(os.path.join('./data/test/low')+'/*.*')\n",
    "test_high_data_name = glob(os.path.join('./data/test/high')+'/*.*')\n",
    "enhanced_data_name = glob(os.path.join('./data/test/be_enhanced/')+'/*.*')\n",
    "\n",
    "# test_low_data_name = glob(os.path.join('/gdrive/MyDrive/Colab Notebooks/Low Light Image Enhancement/LiCENt/data/test/low')+'/*.*')\n",
    "# test_high_data_name = glob(os.path.join('/gdrive/MyDrive/Colab Notebooks/Low Light Image Enhancement/LiCENt/data/test/high')+'/*.*')\n",
    "# enhanced_data_name = glob(os.path.join('/gdrive/MyDrive/Colab Notebooks/Low Light Image Enhancement/LiCENt/enhanced_result')+'/*.*')"
   ]
  },
  {
   "cell_type": "code",
   "execution_count": 10,
   "metadata": {
    "executionInfo": {
     "elapsed": 489,
     "status": "ok",
     "timestamp": 1668022440024,
     "user": {
      "displayName": "Dhananjay Dewangan",
      "userId": "12832676425247193212"
     },
     "user_tz": -330
    },
    "id": "fEs4cdaIFWyp"
   },
   "outputs": [],
   "source": [
    "assert len(test_low_data_name) == len(enhanced_data_name)\n",
    "assert len(test_high_data_name) == len(enhanced_data_name)"
   ]
  },
  {
   "cell_type": "code",
   "execution_count": 11,
   "metadata": {
    "colab": {
     "base_uri": "https://localhost:8080/"
    },
    "executionInfo": {
     "elapsed": 427,
     "status": "ok",
     "timestamp": 1668022444246,
     "user": {
      "displayName": "Dhananjay Dewangan",
      "userId": "12832676425247193212"
     },
     "user_tz": -330
    },
    "id": "jh5gKawHFWyr",
    "outputId": "b7300b3c-b282-4ec6-c586-05bb26e6deb0"
   },
   "outputs": [
    {
     "name": "stdout",
     "output_type": "stream",
     "text": [
      "psnr value --> 27.985\n"
     ]
    }
   ],
   "source": [
    "# Calculate psnr\n",
    "\n",
    "psnr_scores = []\n",
    "for idx in range(len(enhanced_data_name)):\n",
    "    low_im = cv.imread(test_high_data_name[idx])\n",
    "    enh_im = cv.imread(enhanced_data_name[idx])\n",
    "    psnr_scores.append(psnr_score(low_im, enh_im))\n",
    "\n",
    "\n",
    "# mean psnr\n",
    "psnr_val = np.round(np.mean(psnr_scores), 3)\n",
    "print('psnr value --> {}'.format(psnr_val))"
   ]
  },
  {
   "cell_type": "code",
   "execution_count": 12,
   "metadata": {
    "colab": {
     "base_uri": "https://localhost:8080/"
    },
    "executionInfo": {
     "elapsed": 1490,
     "status": "ok",
     "timestamp": 1668022448594,
     "user": {
      "displayName": "Dhananjay Dewangan",
      "userId": "12832676425247193212"
     },
     "user_tz": -330
    },
    "id": "eZ_sS311FWys",
    "outputId": "a9b9c708-4156-471c-9a1b-3108c9d2597f"
   },
   "outputs": [
    {
     "name": "stdout",
     "output_type": "stream",
     "text": [
      "ssim value --> 0.6497\n"
     ]
    }
   ],
   "source": [
    "# Calculate ssim\n",
    "\n",
    "ssim_scores = []\n",
    "for idx in range(len(enhanced_data_name)):\n",
    "    high_im = cv.imread(test_high_data_name[idx])\n",
    "    enh_im = cv.imread(enhanced_data_name[idx])\n",
    "    ssim_scores.append(ssim_score(high_im, enh_im))\n",
    "\n",
    "\n",
    "# mean psnr\n",
    "ssim_val = np.round(np.mean(ssim_scores), 4)\n",
    "print('ssim value --> {}'.format(ssim_val))"
   ]
  },
  {
   "cell_type": "code",
   "execution_count": 13,
   "metadata": {
    "executionInfo": {
     "elapsed": 424,
     "status": "ok",
     "timestamp": 1668022452886,
     "user": {
      "displayName": "Dhananjay Dewangan",
      "userId": "12832676425247193212"
     },
     "user_tz": -330
    },
    "id": "Ip4F3J_EFWyt"
   },
   "outputs": [
    {
     "name": "stdout",
     "output_type": "stream",
     "text": [
      "brisque value --> 33.0246\n"
     ]
    }
   ],
   "source": [
    "# calculate brisque\n",
    "\n",
    "brisque_scores = []\n",
    "for idx in range(len(enhanced_data_name)):\n",
    "    brisque_scores.append(brisque_score(enhanced_data_name[idx]))\n",
    "\n",
    "# mean brisque\n",
    "brisque_val = np.round(np.mean(brisque_scores), 4)\n",
    "print('brisque value --> {}'.format(brisque_val))"
   ]
  },
  {
   "cell_type": "markdown",
   "metadata": {},
   "source": [
    "#### Enhanced Images - Training Data"
   ]
  },
  {
   "cell_type": "code",
   "execution_count": 14,
   "metadata": {
    "scrolled": true
   },
   "outputs": [
    {
     "name": "stdout",
     "output_type": "stream",
     "text": [
      "[*] GPU Mode\n",
      "\n",
      "[*] Initialize model successfully...\n",
      "[*] Reading checkpoint...\n",
      "INFO:tensorflow:Restoring parameters from ./checkpoint\\LiCENt-9400\n",
      "[*] Load weights successfully...\n",
      "[*] Testing...\n",
      "No.[1/470]\n",
      "No.[2/470]\n",
      "No.[3/470]\n",
      "No.[4/470]\n",
      "No.[5/470]\n",
      "No.[6/470]\n",
      "No.[7/470]\n",
      "No.[8/470]\n",
      "No.[9/470]\n",
      "No.[10/470]\n",
      "No.[11/470]\n",
      "No.[12/470]\n",
      "No.[13/470]\n",
      "No.[14/470]\n",
      "No.[15/470]\n",
      "No.[16/470]\n",
      "No.[17/470]\n",
      "No.[18/470]\n",
      "No.[19/470]\n",
      "No.[20/470]\n",
      "No.[21/470]\n",
      "No.[22/470]\n",
      "No.[23/470]\n",
      "No.[24/470]\n",
      "No.[25/470]\n",
      "No.[26/470]\n",
      "No.[27/470]\n",
      "No.[28/470]\n",
      "No.[29/470]\n",
      "No.[30/470]\n",
      "No.[31/470]\n",
      "No.[32/470]\n",
      "No.[33/470]\n",
      "No.[34/470]\n",
      "No.[35/470]\n",
      "No.[36/470]\n",
      "No.[37/470]\n",
      "No.[38/470]\n",
      "No.[39/470]\n",
      "No.[40/470]\n",
      "No.[41/470]\n",
      "No.[42/470]\n",
      "No.[43/470]\n",
      "No.[44/470]\n",
      "No.[45/470]\n",
      "No.[46/470]\n",
      "No.[47/470]\n",
      "No.[48/470]\n",
      "No.[49/470]\n",
      "No.[50/470]\n",
      "No.[51/470]\n",
      "No.[52/470]\n",
      "No.[53/470]\n",
      "No.[54/470]\n",
      "No.[55/470]\n",
      "No.[56/470]\n",
      "No.[57/470]\n",
      "No.[58/470]\n",
      "No.[59/470]\n",
      "No.[60/470]\n",
      "No.[61/470]\n",
      "No.[62/470]\n",
      "No.[63/470]\n",
      "No.[64/470]\n",
      "No.[65/470]\n",
      "No.[66/470]\n",
      "No.[67/470]\n",
      "No.[68/470]\n",
      "No.[69/470]\n",
      "No.[70/470]\n",
      "No.[71/470]\n",
      "No.[72/470]\n",
      "No.[73/470]\n",
      "No.[74/470]\n",
      "No.[75/470]\n",
      "No.[76/470]\n",
      "No.[77/470]\n",
      "No.[78/470]\n",
      "No.[79/470]\n",
      "No.[80/470]\n",
      "No.[81/470]\n",
      "No.[82/470]\n",
      "No.[83/470]\n",
      "No.[84/470]\n",
      "No.[85/470]\n",
      "No.[86/470]\n",
      "No.[87/470]\n",
      "No.[88/470]\n",
      "No.[89/470]\n",
      "No.[90/470]\n",
      "No.[91/470]\n",
      "No.[92/470]\n",
      "No.[93/470]\n",
      "No.[94/470]\n",
      "No.[95/470]\n",
      "No.[96/470]\n",
      "No.[97/470]\n",
      "No.[98/470]\n",
      "No.[99/470]\n",
      "No.[100/470]\n",
      "No.[101/470]\n",
      "No.[102/470]\n",
      "No.[103/470]\n",
      "No.[104/470]\n",
      "No.[105/470]\n",
      "No.[106/470]\n",
      "No.[107/470]\n",
      "No.[108/470]\n",
      "No.[109/470]\n",
      "No.[110/470]\n",
      "No.[111/470]\n",
      "No.[112/470]\n",
      "No.[113/470]\n",
      "No.[114/470]\n",
      "No.[115/470]\n",
      "No.[116/470]\n",
      "No.[117/470]\n",
      "No.[118/470]\n",
      "No.[119/470]\n",
      "No.[120/470]\n",
      "No.[121/470]\n",
      "No.[122/470]\n",
      "No.[123/470]\n",
      "No.[124/470]\n",
      "No.[125/470]\n",
      "No.[126/470]\n",
      "No.[127/470]\n",
      "No.[128/470]\n",
      "No.[129/470]\n",
      "No.[130/470]\n",
      "No.[131/470]\n",
      "No.[132/470]\n",
      "No.[133/470]\n",
      "No.[134/470]\n",
      "No.[135/470]\n",
      "No.[136/470]\n",
      "No.[137/470]\n",
      "No.[138/470]\n",
      "No.[139/470]\n",
      "No.[140/470]\n",
      "No.[141/470]\n",
      "No.[142/470]\n",
      "No.[143/470]\n",
      "No.[144/470]\n",
      "No.[145/470]\n",
      "No.[146/470]\n",
      "No.[147/470]\n",
      "No.[148/470]\n",
      "No.[149/470]\n",
      "No.[150/470]\n",
      "No.[151/470]\n",
      "No.[152/470]\n",
      "No.[153/470]\n",
      "No.[154/470]\n",
      "No.[155/470]\n",
      "No.[156/470]\n",
      "No.[157/470]\n",
      "No.[158/470]\n",
      "No.[159/470]\n",
      "No.[160/470]\n",
      "No.[161/470]\n",
      "No.[162/470]\n",
      "No.[163/470]\n",
      "No.[164/470]\n",
      "No.[165/470]\n",
      "No.[166/470]\n",
      "No.[167/470]\n",
      "No.[168/470]\n",
      "No.[169/470]\n",
      "No.[170/470]\n",
      "No.[171/470]\n",
      "No.[172/470]\n",
      "No.[173/470]\n",
      "No.[174/470]\n",
      "No.[175/470]\n",
      "No.[176/470]\n",
      "No.[177/470]\n",
      "No.[178/470]\n",
      "No.[179/470]\n",
      "No.[180/470]\n",
      "No.[181/470]\n",
      "No.[182/470]\n",
      "No.[183/470]\n",
      "No.[184/470]\n",
      "No.[185/470]\n",
      "No.[186/470]\n",
      "No.[187/470]\n",
      "No.[188/470]\n",
      "No.[189/470]\n",
      "No.[190/470]\n",
      "No.[191/470]\n",
      "No.[192/470]\n",
      "No.[193/470]\n",
      "No.[194/470]\n",
      "No.[195/470]\n",
      "No.[196/470]\n",
      "No.[197/470]\n",
      "No.[198/470]\n",
      "No.[199/470]\n",
      "No.[200/470]\n",
      "No.[201/470]\n",
      "No.[202/470]\n",
      "No.[203/470]\n",
      "No.[204/470]\n",
      "No.[205/470]\n",
      "No.[206/470]\n",
      "No.[207/470]\n",
      "No.[208/470]\n",
      "No.[209/470]\n",
      "No.[210/470]\n",
      "No.[211/470]\n",
      "No.[212/470]\n",
      "No.[213/470]\n",
      "No.[214/470]\n",
      "No.[215/470]\n",
      "No.[216/470]\n",
      "No.[217/470]\n",
      "No.[218/470]\n",
      "No.[219/470]\n",
      "No.[220/470]\n",
      "No.[221/470]\n",
      "No.[222/470]\n",
      "No.[223/470]\n",
      "No.[224/470]\n",
      "No.[225/470]\n",
      "No.[226/470]\n",
      "No.[227/470]\n",
      "No.[228/470]\n",
      "No.[229/470]\n",
      "No.[230/470]\n",
      "No.[231/470]\n",
      "No.[232/470]\n",
      "No.[233/470]\n",
      "No.[234/470]\n",
      "No.[235/470]\n",
      "No.[236/470]\n",
      "No.[237/470]\n",
      "No.[238/470]\n",
      "No.[239/470]\n",
      "No.[240/470]\n",
      "No.[241/470]\n",
      "No.[242/470]\n",
      "No.[243/470]\n",
      "No.[244/470]\n",
      "No.[245/470]\n",
      "No.[246/470]\n",
      "No.[247/470]\n",
      "No.[248/470]\n",
      "No.[249/470]\n",
      "No.[250/470]\n",
      "No.[251/470]\n",
      "No.[252/470]\n",
      "No.[253/470]\n",
      "No.[254/470]\n",
      "No.[255/470]\n",
      "No.[256/470]\n",
      "No.[257/470]\n",
      "No.[258/470]\n",
      "No.[259/470]\n",
      "No.[260/470]\n",
      "No.[261/470]\n",
      "No.[262/470]\n",
      "No.[263/470]\n",
      "No.[264/470]\n",
      "No.[265/470]\n",
      "No.[266/470]\n",
      "No.[267/470]\n",
      "No.[268/470]\n",
      "No.[269/470]\n",
      "No.[270/470]\n",
      "No.[271/470]\n",
      "No.[272/470]\n",
      "No.[273/470]\n",
      "No.[274/470]\n",
      "No.[275/470]\n",
      "No.[276/470]\n",
      "No.[277/470]\n",
      "No.[278/470]\n",
      "No.[279/470]\n",
      "No.[280/470]\n",
      "No.[281/470]\n",
      "No.[282/470]\n",
      "No.[283/470]\n",
      "No.[284/470]\n",
      "No.[285/470]\n",
      "No.[286/470]\n",
      "No.[287/470]\n",
      "No.[288/470]\n",
      "No.[289/470]\n",
      "No.[290/470]\n",
      "No.[291/470]\n",
      "No.[292/470]\n",
      "No.[293/470]\n",
      "No.[294/470]\n",
      "No.[295/470]\n",
      "No.[296/470]\n",
      "No.[297/470]\n",
      "No.[298/470]\n",
      "No.[299/470]\n",
      "No.[300/470]\n",
      "No.[301/470]\n",
      "No.[302/470]\n",
      "No.[303/470]\n",
      "No.[304/470]\n",
      "No.[305/470]\n",
      "No.[306/470]\n",
      "No.[307/470]\n",
      "No.[308/470]\n",
      "No.[309/470]\n",
      "No.[310/470]\n",
      "No.[311/470]\n",
      "No.[312/470]\n",
      "No.[313/470]\n",
      "No.[314/470]\n",
      "No.[315/470]\n",
      "No.[316/470]\n",
      "No.[317/470]\n",
      "No.[318/470]\n",
      "No.[319/470]\n",
      "No.[320/470]\n",
      "No.[321/470]\n",
      "No.[322/470]\n",
      "No.[323/470]\n",
      "No.[324/470]\n",
      "No.[325/470]\n",
      "No.[326/470]\n",
      "No.[327/470]\n",
      "No.[328/470]\n",
      "No.[329/470]\n",
      "No.[330/470]\n",
      "No.[331/470]\n",
      "No.[332/470]\n",
      "No.[333/470]\n",
      "No.[334/470]\n",
      "No.[335/470]\n",
      "No.[336/470]\n",
      "No.[337/470]\n",
      "No.[338/470]\n",
      "No.[339/470]\n",
      "No.[340/470]\n",
      "No.[341/470]\n",
      "No.[342/470]\n",
      "No.[343/470]\n",
      "No.[344/470]\n",
      "No.[345/470]\n",
      "No.[346/470]\n",
      "No.[347/470]\n",
      "No.[348/470]\n",
      "No.[349/470]\n",
      "No.[350/470]\n",
      "No.[351/470]\n",
      "No.[352/470]\n",
      "No.[353/470]\n",
      "No.[354/470]\n",
      "No.[355/470]\n",
      "No.[356/470]\n",
      "No.[357/470]\n",
      "No.[358/470]\n",
      "No.[359/470]\n",
      "No.[360/470]\n",
      "No.[361/470]\n",
      "No.[362/470]\n",
      "No.[363/470]\n",
      "No.[364/470]\n",
      "No.[365/470]\n",
      "No.[366/470]\n",
      "No.[367/470]\n",
      "No.[368/470]\n",
      "No.[369/470]\n",
      "No.[370/470]\n",
      "No.[371/470]\n",
      "No.[372/470]\n",
      "No.[373/470]\n",
      "No.[374/470]\n",
      "No.[375/470]\n",
      "No.[376/470]\n",
      "No.[377/470]\n",
      "No.[378/470]\n",
      "No.[379/470]\n",
      "No.[380/470]\n",
      "No.[381/470]\n",
      "No.[382/470]\n",
      "No.[383/470]\n",
      "No.[384/470]\n",
      "No.[385/470]\n",
      "No.[386/470]\n",
      "No.[387/470]\n",
      "No.[388/470]\n",
      "No.[389/470]\n",
      "No.[390/470]\n",
      "No.[391/470]\n",
      "No.[392/470]\n",
      "No.[393/470]\n",
      "No.[394/470]\n",
      "No.[395/470]\n",
      "No.[396/470]\n",
      "No.[397/470]\n",
      "No.[398/470]\n",
      "No.[399/470]\n",
      "No.[400/470]\n",
      "No.[401/470]\n",
      "No.[402/470]\n",
      "No.[403/470]\n",
      "No.[404/470]\n",
      "No.[405/470]\n",
      "No.[406/470]\n",
      "No.[407/470]\n",
      "No.[408/470]\n",
      "No.[409/470]\n",
      "No.[410/470]\n",
      "No.[411/470]\n",
      "No.[412/470]\n",
      "No.[413/470]\n",
      "No.[414/470]\n",
      "No.[415/470]\n",
      "No.[416/470]\n",
      "No.[417/470]\n",
      "No.[418/470]\n",
      "No.[419/470]\n",
      "No.[420/470]\n",
      "No.[421/470]\n",
      "No.[422/470]\n",
      "No.[423/470]\n",
      "No.[424/470]\n",
      "No.[425/470]\n",
      "No.[426/470]\n",
      "No.[427/470]\n",
      "No.[428/470]\n",
      "No.[429/470]\n",
      "No.[430/470]\n",
      "No.[431/470]\n",
      "No.[432/470]\n",
      "No.[433/470]\n",
      "No.[434/470]\n",
      "No.[435/470]\n",
      "No.[436/470]\n",
      "No.[437/470]\n",
      "No.[438/470]\n",
      "No.[439/470]\n",
      "No.[440/470]\n",
      "No.[441/470]\n",
      "No.[442/470]\n",
      "No.[443/470]\n",
      "No.[444/470]\n",
      "No.[445/470]\n",
      "No.[446/470]\n",
      "No.[447/470]\n",
      "No.[448/470]\n",
      "No.[449/470]\n",
      "No.[450/470]\n",
      "No.[451/470]\n",
      "No.[452/470]\n",
      "No.[453/470]\n",
      "No.[454/470]\n",
      "No.[455/470]\n",
      "No.[456/470]\n",
      "No.[457/470]\n",
      "No.[458/470]\n",
      "No.[459/470]\n",
      "No.[460/470]\n",
      "No.[461/470]\n",
      "No.[462/470]\n",
      "No.[463/470]\n",
      "No.[464/470]\n",
      "No.[465/470]\n",
      "No.[466/470]\n",
      "No.[467/470]\n",
      "No.[468/470]\n",
      "No.[469/470]\n",
      "No.[470/470]\n",
      "[*] Average run time: 0.1194\n"
     ]
    }
   ],
   "source": [
    "# Testing\n",
    "\n",
    "# Declare experiment level variables\n",
    "use_gpu = 1\n",
    "ckpt_dir1 = './checkpoint'\n",
    "save_dir1 = './data/train/be_enhanced/'\n",
    "train_dir1 = './data/train/low'\n",
    "\n",
    "# ckpt_dir = '/gdrive/MyDrive/Colab Notebooks/Low Light Image Enhancement/LiCENt/checkpoint'\n",
    "# save_dir = '/gdrive/MyDrive/Colab Notebooks/Low Light Image Enhancement/LiCENt/enhanced_result'\n",
    "# test_dir = '/gdrive/MyDrive/Colab Notebooks/Low Light Image Enhancement/LiCENt/data/test/low'\n",
    "\n",
    "# Test the model\n",
    "tf.reset_default_graph()\n",
    "session = create_session(gpu_mode=use_gpu)\n",
    "model = LLE(session)\n",
    "LiCENt_test(model, ckpt_dir1, train_dir1, save_dir1)"
   ]
  },
  {
   "cell_type": "code",
   "execution_count": 15,
   "metadata": {},
   "outputs": [],
   "source": [
    "all_low_data_name = glob(os.path.join('./data/train/low')+'/*.*')\n",
    "all_high_data_name = glob(os.path.join('./data/train/high')+'/*.*')\n",
    "all_enhanced_data_name = glob(os.path.join('./data/train/be_enhanced/')+'/*.*')"
   ]
  },
  {
   "cell_type": "code",
   "execution_count": 16,
   "metadata": {},
   "outputs": [
    {
     "name": "stdout",
     "output_type": "stream",
     "text": [
      "psnr value --> 28.08\n"
     ]
    }
   ],
   "source": [
    "# Calculate psnr\n",
    "\n",
    "psnr_scores = []\n",
    "for idx in range(len(all_enhanced_data_name)):\n",
    "    high_im = cv.imread(all_high_data_name[idx])\n",
    "    enh_im = cv.imread(all_enhanced_data_name[idx])\n",
    "    psnr_scores.append(psnr_score(high_im, enh_im))\n",
    "\n",
    "\n",
    "# mean psnr\n",
    "psnr_val = np.round(np.mean(psnr_scores), 3)\n",
    "print('psnr value --> {}'.format(psnr_val))"
   ]
  },
  {
   "cell_type": "code",
   "execution_count": 17,
   "metadata": {},
   "outputs": [
    {
     "name": "stdout",
     "output_type": "stream",
     "text": [
      "ssim value --> 0.5901\n"
     ]
    }
   ],
   "source": [
    "# Calculate ssim\n",
    "\n",
    "ssim_scores = []\n",
    "for idx in range(len(all_enhanced_data_name)):\n",
    "    high_im = cv.imread(all_high_data_name[idx])\n",
    "    enh_im = cv.imread(all_enhanced_data_name[idx])\n",
    "    ssim_scores.append(ssim_score(high_im, enh_im))\n",
    "\n",
    "\n",
    "# mean psnr\n",
    "ssim_val = np.round(np.mean(ssim_scores), 4)\n",
    "print('ssim value --> {}'.format(ssim_val))"
   ]
  },
  {
   "cell_type": "code",
   "execution_count": 18,
   "metadata": {},
   "outputs": [
    {
     "name": "stdout",
     "output_type": "stream",
     "text": [
      "brisque value --> 36.3431\n"
     ]
    }
   ],
   "source": [
    "# calculate brisque\n",
    "\n",
    "brisque_scores = []\n",
    "for idx in range(len(all_enhanced_data_name)):\n",
    "    brisque_scores.append(brisque_score(all_enhanced_data_name[idx]))\n",
    "\n",
    "# mean brisque\n",
    "brisque_val = np.round(np.mean(brisque_scores), 4)\n",
    "print('brisque value --> {}'.format(brisque_val))"
   ]
  },
  {
   "cell_type": "markdown",
   "metadata": {},
   "source": [
    "### ExDark Dataset"
   ]
  },
  {
   "cell_type": "code",
   "execution_count": 7,
   "metadata": {
    "scrolled": true
   },
   "outputs": [
    {
     "name": "stdout",
     "output_type": "stream",
     "text": [
      "[*] GPU Mode\n",
      "\n",
      "WARNING:tensorflow:From C:\\Users\\HP\\Documents\\Python Scripts\\Masters Program\\MSc Research - Image Enhancement\\Model_Building\\LiCENt_Proposed\\model.py:202: conv2d (from tensorflow.python.keras.legacy_tf_layers.convolutional) is deprecated and will be removed in a future version.\n",
      "Instructions for updating:\n",
      "Use `tf.keras.layers.Conv2D` instead.\n",
      "WARNING:tensorflow:From C:\\Users\\HP\\anaconda3\\lib\\site-packages\\tensorflow\\python\\keras\\legacy_tf_layers\\convolutional.py:424: Layer.apply (from tensorflow.python.keras.engine.base_layer_v1) is deprecated and will be removed in a future version.\n",
      "Instructions for updating:\n",
      "Please use `layer.__call__` method instead.\n",
      "[*] Initialize model successfully...\n",
      "[*] Reading checkpoint...\n",
      "INFO:tensorflow:Restoring parameters from ./checkpoint\\LiCENt-9400\n",
      "[*] Load weights successfully...\n",
      "[*] Testing...\n",
      "No.[1/100]\n",
      "No.[2/100]\n",
      "No.[3/100]\n",
      "No.[4/100]\n",
      "No.[5/100]\n",
      "No.[6/100]\n",
      "No.[7/100]\n",
      "No.[8/100]\n",
      "No.[9/100]\n",
      "No.[10/100]\n",
      "No.[11/100]\n",
      "No.[12/100]\n",
      "No.[13/100]\n",
      "No.[14/100]\n",
      "No.[15/100]\n",
      "No.[16/100]\n",
      "No.[17/100]\n",
      "No.[18/100]\n",
      "No.[19/100]\n",
      "No.[20/100]\n",
      "No.[21/100]\n",
      "No.[22/100]\n",
      "No.[23/100]\n",
      "No.[24/100]\n",
      "No.[25/100]\n",
      "No.[26/100]\n",
      "No.[27/100]\n",
      "No.[28/100]\n",
      "No.[29/100]\n",
      "No.[30/100]\n",
      "No.[31/100]\n",
      "No.[32/100]\n",
      "No.[33/100]\n",
      "No.[34/100]\n",
      "No.[35/100]\n",
      "No.[36/100]\n",
      "No.[37/100]\n",
      "No.[38/100]\n",
      "No.[39/100]\n",
      "No.[40/100]\n",
      "No.[41/100]\n",
      "No.[42/100]\n",
      "No.[43/100]\n",
      "No.[44/100]\n",
      "No.[45/100]\n",
      "No.[46/100]\n",
      "No.[47/100]\n",
      "No.[48/100]\n",
      "No.[49/100]\n",
      "No.[50/100]\n",
      "No.[51/100]\n",
      "No.[52/100]\n",
      "No.[53/100]\n",
      "No.[54/100]\n",
      "No.[55/100]\n",
      "No.[56/100]\n",
      "No.[57/100]\n",
      "No.[58/100]\n",
      "No.[59/100]\n",
      "No.[60/100]\n",
      "No.[61/100]\n",
      "No.[62/100]\n",
      "No.[63/100]\n",
      "No.[64/100]\n",
      "No.[65/100]\n",
      "No.[66/100]\n",
      "No.[67/100]\n",
      "No.[68/100]\n",
      "No.[69/100]\n",
      "No.[70/100]\n",
      "No.[71/100]\n",
      "No.[72/100]\n",
      "No.[73/100]\n",
      "No.[74/100]\n",
      "No.[75/100]\n",
      "No.[76/100]\n",
      "No.[77/100]\n",
      "No.[78/100]\n",
      "No.[79/100]\n",
      "No.[80/100]\n",
      "No.[81/100]\n",
      "No.[82/100]\n",
      "No.[83/100]\n",
      "No.[84/100]\n",
      "No.[85/100]\n",
      "No.[86/100]\n",
      "No.[87/100]\n",
      "No.[88/100]\n",
      "No.[89/100]\n",
      "No.[90/100]\n",
      "No.[91/100]\n",
      "No.[92/100]\n",
      "No.[93/100]\n",
      "No.[94/100]\n",
      "No.[95/100]\n",
      "No.[96/100]\n",
      "No.[97/100]\n",
      "No.[98/100]\n",
      "No.[99/100]\n",
      "No.[100/100]\n",
      "[*] Average run time: 0.1338\n"
     ]
    }
   ],
   "source": [
    "use_gpu = 1\n",
    "ckpt_dir0 = './checkpoint'\n",
    "save_dir0 = './validation_data/ExDark/be_enhanced'\n",
    "test_dir0 = './validation_data/ExDark/test'\n",
    "\n",
    "# ckpt_dir = '/gdrive/MyDrive/Colab Notebooks/Low Light Image Enhancement/LiCENt/checkpoint'\n",
    "# save_dir = '/gdrive/MyDrive/Colab Notebooks/Low Light Image Enhancement/LiCENt/enhanced_result'\n",
    "# test_dir = '/gdrive/MyDrive/Colab Notebooks/Low Light Image Enhancement/LiCENt/data/test/low'\n",
    "\n",
    "# Test the model\n",
    "tf.reset_default_graph()\n",
    "session = create_session(gpu_mode=use_gpu)\n",
    "model = LLE(session)\n",
    "LiCENt_test(model, ckpt_dir0, test_dir0, save_dir0)"
   ]
  },
  {
   "cell_type": "code",
   "execution_count": 8,
   "metadata": {},
   "outputs": [],
   "source": [
    "val_low_data_name = glob(os.path.join('./validation_data/ExDark/test/')+'/*.*')\n",
    "val_enhanced_data_name = glob(os.path.join('./validation_data/ExDark/be_enhanced/')+'/*.*')"
   ]
  },
  {
   "cell_type": "code",
   "execution_count": 9,
   "metadata": {},
   "outputs": [
    {
     "name": "stdout",
     "output_type": "stream",
     "text": [
      "brisque value --> 29.0156\n"
     ]
    }
   ],
   "source": [
    "# calculate brisque\n",
    "\n",
    "brisque_scores = []\n",
    "for idx in range(len(val_enhanced_data_name)):\n",
    "    brisque_scores.append(brisque_score(val_enhanced_data_name[idx]))\n",
    "\n",
    "# mean brisque\n",
    "brisque_val = np.round(np.mean(brisque_scores), 4)\n",
    "print('brisque value --> {}'.format(brisque_val))"
   ]
  },
  {
   "cell_type": "code",
   "execution_count": null,
   "metadata": {},
   "outputs": [],
   "source": []
  },
  {
   "cell_type": "code",
   "execution_count": null,
   "metadata": {},
   "outputs": [],
   "source": []
  },
  {
   "cell_type": "code",
   "execution_count": null,
   "metadata": {},
   "outputs": [],
   "source": []
  },
  {
   "cell_type": "code",
   "execution_count": null,
   "metadata": {},
   "outputs": [],
   "source": []
  },
  {
   "cell_type": "code",
   "execution_count": null,
   "metadata": {},
   "outputs": [],
   "source": []
  }
 ],
 "metadata": {
  "accelerator": "GPU",
  "colab": {
   "collapsed_sections": [],
   "provenance": []
  },
  "gpuClass": "standard",
  "kernelspec": {
   "display_name": "Python 3",
   "language": "python",
   "name": "python3"
  },
  "language_info": {
   "codemirror_mode": {
    "name": "ipython",
    "version": 3
   },
   "file_extension": ".py",
   "mimetype": "text/x-python",
   "name": "python",
   "nbconvert_exporter": "python",
   "pygments_lexer": "ipython3",
   "version": "3.8.10"
  }
 },
 "nbformat": 4,
 "nbformat_minor": 1
}
